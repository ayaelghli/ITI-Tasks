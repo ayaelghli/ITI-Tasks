{
 "cells": [
  {
   "cell_type": "markdown",
   "id": "dde67e4a",
   "metadata": {},
   "source": [
    "# important libraries\n"
   ]
  },
  {
   "cell_type": "code",
   "execution_count": 1,
   "id": "77edd4b8",
   "metadata": {},
   "outputs": [],
   "source": [
    "import pandas as pd \n",
    "import numpy as np \n",
    "from sklearn.model_selection  import train_test_split\n",
    "import matplotlib.pyplot as plt\n",
    "from sklearn.preprocessing import OneHotEncoder\n",
    "from sklearn.preprocessing import LabelEncoder\n",
    "from sklearn.preprocessing import MinMaxScaler\n",
    "from sklearn.preprocessing import StandardScaler\n",
    "import seaborn as sns\n",
    "from sklearn.impute import SimpleImputer\n",
    "pd.set_option('display.max_columns',12)"
   ]
  },
  {
   "cell_type": "markdown",
   "id": "48b5ce4b",
   "metadata": {},
   "source": [
    "# load and split data to train ,Test"
   ]
  },
  {
   "cell_type": "code",
   "execution_count": 2,
   "id": "888e0eca",
   "metadata": {},
   "outputs": [],
   "source": [
    "df=pd.read_csv(\"weatherHistory.csv\")\n"
   ]
  },
  {
   "cell_type": "code",
   "execution_count": 3,
   "id": "6e0881ca",
   "metadata": {},
   "outputs": [
    {
     "data": {
      "text/html": [
       "<div>\n",
       "<style scoped>\n",
       "    .dataframe tbody tr th:only-of-type {\n",
       "        vertical-align: middle;\n",
       "    }\n",
       "\n",
       "    .dataframe tbody tr th {\n",
       "        vertical-align: top;\n",
       "    }\n",
       "\n",
       "    .dataframe thead th {\n",
       "        text-align: right;\n",
       "    }\n",
       "</style>\n",
       "<table border=\"1\" class=\"dataframe\">\n",
       "  <thead>\n",
       "    <tr style=\"text-align: right;\">\n",
       "      <th></th>\n",
       "      <th>Formatted Date</th>\n",
       "      <th>Summary</th>\n",
       "      <th>Precip Type</th>\n",
       "      <th>Temperature (C)</th>\n",
       "      <th>Apparent Temperature (C)</th>\n",
       "      <th>Humidity</th>\n",
       "      <th>Wind Speed (km/h)</th>\n",
       "      <th>Wind Bearing (degrees)</th>\n",
       "      <th>Visibility (km)</th>\n",
       "      <th>Loud Cover</th>\n",
       "      <th>Pressure (millibars)</th>\n",
       "      <th>Daily Summary</th>\n",
       "    </tr>\n",
       "  </thead>\n",
       "  <tbody>\n",
       "    <tr>\n",
       "      <th>0</th>\n",
       "      <td>2006-04-01 00:00:00.000 +0200</td>\n",
       "      <td>Partly Cloudy</td>\n",
       "      <td>rain</td>\n",
       "      <td>9.472222</td>\n",
       "      <td>7.388889</td>\n",
       "      <td>0.89</td>\n",
       "      <td>14.1197</td>\n",
       "      <td>251.0</td>\n",
       "      <td>15.8263</td>\n",
       "      <td>0.0</td>\n",
       "      <td>1015.13</td>\n",
       "      <td>Partly cloudy throughout the day.</td>\n",
       "    </tr>\n",
       "    <tr>\n",
       "      <th>1</th>\n",
       "      <td>2006-04-01 01:00:00.000 +0200</td>\n",
       "      <td>Partly Cloudy</td>\n",
       "      <td>rain</td>\n",
       "      <td>9.355556</td>\n",
       "      <td>7.227778</td>\n",
       "      <td>0.86</td>\n",
       "      <td>14.2646</td>\n",
       "      <td>259.0</td>\n",
       "      <td>15.8263</td>\n",
       "      <td>0.0</td>\n",
       "      <td>1015.63</td>\n",
       "      <td>Partly cloudy throughout the day.</td>\n",
       "    </tr>\n",
       "    <tr>\n",
       "      <th>2</th>\n",
       "      <td>2006-04-01 02:00:00.000 +0200</td>\n",
       "      <td>Mostly Cloudy</td>\n",
       "      <td>rain</td>\n",
       "      <td>9.377778</td>\n",
       "      <td>9.377778</td>\n",
       "      <td>0.89</td>\n",
       "      <td>3.9284</td>\n",
       "      <td>204.0</td>\n",
       "      <td>14.9569</td>\n",
       "      <td>0.0</td>\n",
       "      <td>1015.94</td>\n",
       "      <td>Partly cloudy throughout the day.</td>\n",
       "    </tr>\n",
       "    <tr>\n",
       "      <th>3</th>\n",
       "      <td>2006-04-01 03:00:00.000 +0200</td>\n",
       "      <td>Partly Cloudy</td>\n",
       "      <td>rain</td>\n",
       "      <td>8.288889</td>\n",
       "      <td>5.944444</td>\n",
       "      <td>0.83</td>\n",
       "      <td>14.1036</td>\n",
       "      <td>269.0</td>\n",
       "      <td>15.8263</td>\n",
       "      <td>0.0</td>\n",
       "      <td>1016.41</td>\n",
       "      <td>Partly cloudy throughout the day.</td>\n",
       "    </tr>\n",
       "    <tr>\n",
       "      <th>4</th>\n",
       "      <td>2006-04-01 04:00:00.000 +0200</td>\n",
       "      <td>Mostly Cloudy</td>\n",
       "      <td>rain</td>\n",
       "      <td>8.755556</td>\n",
       "      <td>6.977778</td>\n",
       "      <td>0.83</td>\n",
       "      <td>11.0446</td>\n",
       "      <td>259.0</td>\n",
       "      <td>15.8263</td>\n",
       "      <td>0.0</td>\n",
       "      <td>1016.51</td>\n",
       "      <td>Partly cloudy throughout the day.</td>\n",
       "    </tr>\n",
       "  </tbody>\n",
       "</table>\n",
       "</div>"
      ],
      "text/plain": [
       "                  Formatted Date        Summary Precip Type  Temperature (C)  \\\n",
       "0  2006-04-01 00:00:00.000 +0200  Partly Cloudy        rain         9.472222   \n",
       "1  2006-04-01 01:00:00.000 +0200  Partly Cloudy        rain         9.355556   \n",
       "2  2006-04-01 02:00:00.000 +0200  Mostly Cloudy        rain         9.377778   \n",
       "3  2006-04-01 03:00:00.000 +0200  Partly Cloudy        rain         8.288889   \n",
       "4  2006-04-01 04:00:00.000 +0200  Mostly Cloudy        rain         8.755556   \n",
       "\n",
       "   Apparent Temperature (C)  Humidity  Wind Speed (km/h)  \\\n",
       "0                  7.388889      0.89            14.1197   \n",
       "1                  7.227778      0.86            14.2646   \n",
       "2                  9.377778      0.89             3.9284   \n",
       "3                  5.944444      0.83            14.1036   \n",
       "4                  6.977778      0.83            11.0446   \n",
       "\n",
       "   Wind Bearing (degrees)  Visibility (km)  Loud Cover  Pressure (millibars)  \\\n",
       "0                   251.0          15.8263         0.0               1015.13   \n",
       "1                   259.0          15.8263         0.0               1015.63   \n",
       "2                   204.0          14.9569         0.0               1015.94   \n",
       "3                   269.0          15.8263         0.0               1016.41   \n",
       "4                   259.0          15.8263         0.0               1016.51   \n",
       "\n",
       "                       Daily Summary  \n",
       "0  Partly cloudy throughout the day.  \n",
       "1  Partly cloudy throughout the day.  \n",
       "2  Partly cloudy throughout the day.  \n",
       "3  Partly cloudy throughout the day.  \n",
       "4  Partly cloudy throughout the day.  "
      ]
     },
     "execution_count": 3,
     "metadata": {},
     "output_type": "execute_result"
    }
   ],
   "source": [
    "df.head()"
   ]
  },
  {
   "cell_type": "code",
   "execution_count": 4,
   "id": "59812c8d",
   "metadata": {},
   "outputs": [
    {
     "data": {
      "text/plain": [
       "(96453, 12)"
      ]
     },
     "execution_count": 4,
     "metadata": {},
     "output_type": "execute_result"
    }
   ],
   "source": [
    "df.shape"
   ]
  },
  {
   "cell_type": "code",
   "execution_count": 5,
   "id": "18a4f654",
   "metadata": {},
   "outputs": [
    {
     "data": {
      "text/plain": [
       "0        2006-04-01 00:00:00.000 +0200\n",
       "1        2006-04-01 01:00:00.000 +0200\n",
       "2        2006-04-01 02:00:00.000 +0200\n",
       "3        2006-04-01 03:00:00.000 +0200\n",
       "4        2006-04-01 04:00:00.000 +0200\n",
       "                     ...              \n",
       "96448    2016-09-09 19:00:00.000 +0200\n",
       "96449    2016-09-09 20:00:00.000 +0200\n",
       "96450    2016-09-09 21:00:00.000 +0200\n",
       "96451    2016-09-09 22:00:00.000 +0200\n",
       "96452    2016-09-09 23:00:00.000 +0200\n",
       "Name: Formatted Date, Length: 96453, dtype: object"
      ]
     },
     "execution_count": 5,
     "metadata": {},
     "output_type": "execute_result"
    }
   ],
   "source": [
    "df['Formatted Date']\n"
   ]
  },
  {
   "cell_type": "code",
   "execution_count": 6,
   "id": "94ce7e01",
   "metadata": {},
   "outputs": [],
   "source": [
    "df['Date'] = pd.to_datetime(df['Formatted Date'], utc=True)"
   ]
  },
  {
   "cell_type": "code",
   "execution_count": 7,
   "id": "e4aeef3a",
   "metadata": {},
   "outputs": [],
   "source": [
    "df.drop(['Formatted Date'],axis=1,inplace=True)\n",
    "df.drop(columns=['Daily Summary'],axis=1,inplace=True)\n"
   ]
  },
  {
   "cell_type": "code",
   "execution_count": 8,
   "id": "9d663631",
   "metadata": {},
   "outputs": [
    {
     "data": {
      "text/plain": [
       "0       2006-03-31 22:00:00+00:00\n",
       "1       2006-03-31 23:00:00+00:00\n",
       "2       2006-04-01 00:00:00+00:00\n",
       "3       2006-04-01 01:00:00+00:00\n",
       "4       2006-04-01 02:00:00+00:00\n",
       "                   ...           \n",
       "96448   2016-09-09 17:00:00+00:00\n",
       "96449   2016-09-09 18:00:00+00:00\n",
       "96450   2016-09-09 19:00:00+00:00\n",
       "96451   2016-09-09 20:00:00+00:00\n",
       "96452   2016-09-09 21:00:00+00:00\n",
       "Name: Date, Length: 96453, dtype: datetime64[ns, UTC]"
      ]
     },
     "execution_count": 8,
     "metadata": {},
     "output_type": "execute_result"
    }
   ],
   "source": [
    "df['Date']"
   ]
  },
  {
   "cell_type": "code",
   "execution_count": 9,
   "id": "7192dfcb",
   "metadata": {},
   "outputs": [],
   "source": [
    "# Indexing according to date and time.\n",
    "df = df.sort_values(by=['Date'])"
   ]
  },
  {
   "cell_type": "code",
   "execution_count": 10,
   "id": "6784c402",
   "metadata": {},
   "outputs": [
    {
     "data": {
      "text/plain": [
       "DatetimeIndex(['2005-12-31 23:00:00+00:00', '2006-01-01 00:00:00+00:00',\n",
       "               '2006-01-01 01:00:00+00:00', '2006-01-01 02:00:00+00:00',\n",
       "               '2006-01-01 03:00:00+00:00', '2006-01-01 04:00:00+00:00',\n",
       "               '2006-01-01 05:00:00+00:00', '2006-01-01 06:00:00+00:00',\n",
       "               '2006-01-01 07:00:00+00:00', '2006-01-01 08:00:00+00:00',\n",
       "               ...\n",
       "               '2016-12-31 13:00:00+00:00', '2016-12-31 14:00:00+00:00',\n",
       "               '2016-12-31 15:00:00+00:00', '2016-12-31 16:00:00+00:00',\n",
       "               '2016-12-31 17:00:00+00:00', '2016-12-31 18:00:00+00:00',\n",
       "               '2016-12-31 19:00:00+00:00', '2016-12-31 20:00:00+00:00',\n",
       "               '2016-12-31 21:00:00+00:00', '2016-12-31 22:00:00+00:00'],\n",
       "              dtype='datetime64[ns, UTC]', name='Date', length=96453, freq=None)"
      ]
     },
     "execution_count": 10,
     "metadata": {},
     "output_type": "execute_result"
    }
   ],
   "source": [
    "# Setting Index\n",
    "df = df.set_index('Date')\n",
    "df.index"
   ]
  },
  {
   "cell_type": "code",
   "execution_count": 11,
   "id": "76e69918",
   "metadata": {},
   "outputs": [],
   "source": [
    "train_data,test_data = train_test_split(df, test_size=0.25, random_state=42)"
   ]
  },
  {
   "cell_type": "code",
   "execution_count": 12,
   "id": "593ee93d",
   "metadata": {},
   "outputs": [
    {
     "data": {
      "text/html": [
       "<div>\n",
       "<style scoped>\n",
       "    .dataframe tbody tr th:only-of-type {\n",
       "        vertical-align: middle;\n",
       "    }\n",
       "\n",
       "    .dataframe tbody tr th {\n",
       "        vertical-align: top;\n",
       "    }\n",
       "\n",
       "    .dataframe thead th {\n",
       "        text-align: right;\n",
       "    }\n",
       "</style>\n",
       "<table border=\"1\" class=\"dataframe\">\n",
       "  <thead>\n",
       "    <tr style=\"text-align: right;\">\n",
       "      <th></th>\n",
       "      <th>Summary</th>\n",
       "      <th>Precip Type</th>\n",
       "      <th>Temperature (C)</th>\n",
       "      <th>Apparent Temperature (C)</th>\n",
       "      <th>Humidity</th>\n",
       "      <th>Wind Speed (km/h)</th>\n",
       "      <th>Wind Bearing (degrees)</th>\n",
       "      <th>Visibility (km)</th>\n",
       "      <th>Loud Cover</th>\n",
       "      <th>Pressure (millibars)</th>\n",
       "    </tr>\n",
       "    <tr>\n",
       "      <th>Date</th>\n",
       "      <th></th>\n",
       "      <th></th>\n",
       "      <th></th>\n",
       "      <th></th>\n",
       "      <th></th>\n",
       "      <th></th>\n",
       "      <th></th>\n",
       "      <th></th>\n",
       "      <th></th>\n",
       "      <th></th>\n",
       "    </tr>\n",
       "  </thead>\n",
       "  <tbody>\n",
       "    <tr>\n",
       "      <th>2015-06-12 22:00:00+00:00</th>\n",
       "      <td>Clear</td>\n",
       "      <td>rain</td>\n",
       "      <td>19.933333</td>\n",
       "      <td>19.933333</td>\n",
       "      <td>0.74</td>\n",
       "      <td>6.2951</td>\n",
       "      <td>160.0</td>\n",
       "      <td>16.1000</td>\n",
       "      <td>0.0</td>\n",
       "      <td>1014.48</td>\n",
       "    </tr>\n",
       "    <tr>\n",
       "      <th>2008-12-08 13:00:00+00:00</th>\n",
       "      <td>Partly Cloudy</td>\n",
       "      <td>rain</td>\n",
       "      <td>6.161111</td>\n",
       "      <td>3.250000</td>\n",
       "      <td>0.64</td>\n",
       "      <td>14.6349</td>\n",
       "      <td>310.0</td>\n",
       "      <td>11.2056</td>\n",
       "      <td>0.0</td>\n",
       "      <td>1022.95</td>\n",
       "    </tr>\n",
       "    <tr>\n",
       "      <th>2009-01-04 20:00:00+00:00</th>\n",
       "      <td>Overcast</td>\n",
       "      <td>snow</td>\n",
       "      <td>-6.111111</td>\n",
       "      <td>-11.811111</td>\n",
       "      <td>0.84</td>\n",
       "      <td>14.4900</td>\n",
       "      <td>220.0</td>\n",
       "      <td>4.9910</td>\n",
       "      <td>0.0</td>\n",
       "      <td>1020.20</td>\n",
       "    </tr>\n",
       "    <tr>\n",
       "      <th>2012-10-25 08:00:00+00:00</th>\n",
       "      <td>Foggy</td>\n",
       "      <td>rain</td>\n",
       "      <td>11.016667</td>\n",
       "      <td>11.016667</td>\n",
       "      <td>0.93</td>\n",
       "      <td>0.0000</td>\n",
       "      <td>0.0</td>\n",
       "      <td>2.5438</td>\n",
       "      <td>0.0</td>\n",
       "      <td>1016.41</td>\n",
       "    </tr>\n",
       "    <tr>\n",
       "      <th>2008-10-20 01:00:00+00:00</th>\n",
       "      <td>Foggy</td>\n",
       "      <td>rain</td>\n",
       "      <td>5.927778</td>\n",
       "      <td>4.755556</td>\n",
       "      <td>0.93</td>\n",
       "      <td>6.1502</td>\n",
       "      <td>60.0</td>\n",
       "      <td>1.2880</td>\n",
       "      <td>0.0</td>\n",
       "      <td>1026.41</td>\n",
       "    </tr>\n",
       "    <tr>\n",
       "      <th>2012-01-11 03:00:00+00:00</th>\n",
       "      <td>Overcast</td>\n",
       "      <td>rain</td>\n",
       "      <td>1.738889</td>\n",
       "      <td>1.738889</td>\n",
       "      <td>0.93</td>\n",
       "      <td>3.1234</td>\n",
       "      <td>287.0</td>\n",
       "      <td>9.4185</td>\n",
       "      <td>0.0</td>\n",
       "      <td>1030.02</td>\n",
       "    </tr>\n",
       "    <tr>\n",
       "      <th>2015-11-06 17:00:00+00:00</th>\n",
       "      <td>Foggy</td>\n",
       "      <td>rain</td>\n",
       "      <td>2.733333</td>\n",
       "      <td>0.050000</td>\n",
       "      <td>1.00</td>\n",
       "      <td>9.6600</td>\n",
       "      <td>0.0</td>\n",
       "      <td>0.0000</td>\n",
       "      <td>0.0</td>\n",
       "      <td>1026.63</td>\n",
       "    </tr>\n",
       "    <tr>\n",
       "      <th>2008-02-14 04:00:00+00:00</th>\n",
       "      <td>Foggy</td>\n",
       "      <td>snow</td>\n",
       "      <td>-2.705556</td>\n",
       "      <td>-7.855556</td>\n",
       "      <td>0.92</td>\n",
       "      <td>15.6170</td>\n",
       "      <td>329.0</td>\n",
       "      <td>1.9320</td>\n",
       "      <td>0.0</td>\n",
       "      <td>1031.78</td>\n",
       "    </tr>\n",
       "    <tr>\n",
       "      <th>2013-08-25 12:00:00+00:00</th>\n",
       "      <td>Mostly Cloudy</td>\n",
       "      <td>rain</td>\n",
       "      <td>27.572222</td>\n",
       "      <td>27.277778</td>\n",
       "      <td>0.40</td>\n",
       "      <td>6.7942</td>\n",
       "      <td>104.0</td>\n",
       "      <td>15.5526</td>\n",
       "      <td>0.0</td>\n",
       "      <td>1010.11</td>\n",
       "    </tr>\n",
       "    <tr>\n",
       "      <th>2006-01-15 22:00:00+00:00</th>\n",
       "      <td>Overcast</td>\n",
       "      <td>snow</td>\n",
       "      <td>-3.288889</td>\n",
       "      <td>-5.938889</td>\n",
       "      <td>0.85</td>\n",
       "      <td>6.3434</td>\n",
       "      <td>33.0</td>\n",
       "      <td>9.9015</td>\n",
       "      <td>0.0</td>\n",
       "      <td>1034.65</td>\n",
       "    </tr>\n",
       "  </tbody>\n",
       "</table>\n",
       "</div>"
      ],
      "text/plain": [
       "                                 Summary Precip Type  Temperature (C)  \\\n",
       "Date                                                                    \n",
       "2015-06-12 22:00:00+00:00          Clear        rain        19.933333   \n",
       "2008-12-08 13:00:00+00:00  Partly Cloudy        rain         6.161111   \n",
       "2009-01-04 20:00:00+00:00       Overcast        snow        -6.111111   \n",
       "2012-10-25 08:00:00+00:00          Foggy        rain        11.016667   \n",
       "2008-10-20 01:00:00+00:00          Foggy        rain         5.927778   \n",
       "2012-01-11 03:00:00+00:00       Overcast        rain         1.738889   \n",
       "2015-11-06 17:00:00+00:00          Foggy        rain         2.733333   \n",
       "2008-02-14 04:00:00+00:00          Foggy        snow        -2.705556   \n",
       "2013-08-25 12:00:00+00:00  Mostly Cloudy        rain        27.572222   \n",
       "2006-01-15 22:00:00+00:00       Overcast        snow        -3.288889   \n",
       "\n",
       "                           Apparent Temperature (C)  Humidity  \\\n",
       "Date                                                            \n",
       "2015-06-12 22:00:00+00:00                 19.933333      0.74   \n",
       "2008-12-08 13:00:00+00:00                  3.250000      0.64   \n",
       "2009-01-04 20:00:00+00:00                -11.811111      0.84   \n",
       "2012-10-25 08:00:00+00:00                 11.016667      0.93   \n",
       "2008-10-20 01:00:00+00:00                  4.755556      0.93   \n",
       "2012-01-11 03:00:00+00:00                  1.738889      0.93   \n",
       "2015-11-06 17:00:00+00:00                  0.050000      1.00   \n",
       "2008-02-14 04:00:00+00:00                 -7.855556      0.92   \n",
       "2013-08-25 12:00:00+00:00                 27.277778      0.40   \n",
       "2006-01-15 22:00:00+00:00                 -5.938889      0.85   \n",
       "\n",
       "                           Wind Speed (km/h)  Wind Bearing (degrees)  \\\n",
       "Date                                                                   \n",
       "2015-06-12 22:00:00+00:00             6.2951                   160.0   \n",
       "2008-12-08 13:00:00+00:00            14.6349                   310.0   \n",
       "2009-01-04 20:00:00+00:00            14.4900                   220.0   \n",
       "2012-10-25 08:00:00+00:00             0.0000                     0.0   \n",
       "2008-10-20 01:00:00+00:00             6.1502                    60.0   \n",
       "2012-01-11 03:00:00+00:00             3.1234                   287.0   \n",
       "2015-11-06 17:00:00+00:00             9.6600                     0.0   \n",
       "2008-02-14 04:00:00+00:00            15.6170                   329.0   \n",
       "2013-08-25 12:00:00+00:00             6.7942                   104.0   \n",
       "2006-01-15 22:00:00+00:00             6.3434                    33.0   \n",
       "\n",
       "                           Visibility (km)  Loud Cover  Pressure (millibars)  \n",
       "Date                                                                          \n",
       "2015-06-12 22:00:00+00:00          16.1000         0.0               1014.48  \n",
       "2008-12-08 13:00:00+00:00          11.2056         0.0               1022.95  \n",
       "2009-01-04 20:00:00+00:00           4.9910         0.0               1020.20  \n",
       "2012-10-25 08:00:00+00:00           2.5438         0.0               1016.41  \n",
       "2008-10-20 01:00:00+00:00           1.2880         0.0               1026.41  \n",
       "2012-01-11 03:00:00+00:00           9.4185         0.0               1030.02  \n",
       "2015-11-06 17:00:00+00:00           0.0000         0.0               1026.63  \n",
       "2008-02-14 04:00:00+00:00           1.9320         0.0               1031.78  \n",
       "2013-08-25 12:00:00+00:00          15.5526         0.0               1010.11  \n",
       "2006-01-15 22:00:00+00:00           9.9015         0.0               1034.65  "
      ]
     },
     "execution_count": 12,
     "metadata": {},
     "output_type": "execute_result"
    }
   ],
   "source": [
    "train_data.head(10)"
   ]
  },
  {
   "cell_type": "code",
   "execution_count": 13,
   "id": "089238a4",
   "metadata": {},
   "outputs": [
    {
     "data": {
      "text/plain": [
       "count    96453.0\n",
       "mean         0.0\n",
       "std          0.0\n",
       "min          0.0\n",
       "25%          0.0\n",
       "50%          0.0\n",
       "75%          0.0\n",
       "max          0.0\n",
       "Name: Loud Cover, dtype: float64"
      ]
     },
     "execution_count": 13,
     "metadata": {},
     "output_type": "execute_result"
    }
   ],
   "source": [
    "df['Loud Cover'].describe()\n"
   ]
  },
  {
   "cell_type": "code",
   "execution_count": 14,
   "id": "653444ef",
   "metadata": {},
   "outputs": [],
   "source": [
    "df.drop(['Loud Cover'],axis=1,inplace=True)\n"
   ]
  },
  {
   "cell_type": "code",
   "execution_count": 15,
   "id": "559e3263",
   "metadata": {},
   "outputs": [
    {
     "data": {
      "text/plain": [
       "72"
      ]
     },
     "execution_count": 15,
     "metadata": {},
     "output_type": "execute_result"
    }
   ],
   "source": [
    "df.duplicated().sum()"
   ]
  },
  {
   "cell_type": "code",
   "execution_count": 16,
   "id": "0173d9c1",
   "metadata": {},
   "outputs": [
    {
     "data": {
      "text/html": [
       "<div>\n",
       "<style scoped>\n",
       "    .dataframe tbody tr th:only-of-type {\n",
       "        vertical-align: middle;\n",
       "    }\n",
       "\n",
       "    .dataframe tbody tr th {\n",
       "        vertical-align: top;\n",
       "    }\n",
       "\n",
       "    .dataframe thead th {\n",
       "        text-align: right;\n",
       "    }\n",
       "</style>\n",
       "<table border=\"1\" class=\"dataframe\">\n",
       "  <thead>\n",
       "    <tr style=\"text-align: right;\">\n",
       "      <th></th>\n",
       "      <th>Summary</th>\n",
       "      <th>Precip Type</th>\n",
       "      <th>Temperature (C)</th>\n",
       "      <th>Apparent Temperature (C)</th>\n",
       "      <th>Humidity</th>\n",
       "      <th>Wind Speed (km/h)</th>\n",
       "      <th>Wind Bearing (degrees)</th>\n",
       "      <th>Visibility (km)</th>\n",
       "      <th>Pressure (millibars)</th>\n",
       "    </tr>\n",
       "    <tr>\n",
       "      <th>Date</th>\n",
       "      <th></th>\n",
       "      <th></th>\n",
       "      <th></th>\n",
       "      <th></th>\n",
       "      <th></th>\n",
       "      <th></th>\n",
       "      <th></th>\n",
       "      <th></th>\n",
       "      <th></th>\n",
       "    </tr>\n",
       "  </thead>\n",
       "  <tbody>\n",
       "    <tr>\n",
       "      <th>2005-12-31 23:00:00+00:00</th>\n",
       "      <td>Partly Cloudy</td>\n",
       "      <td>rain</td>\n",
       "      <td>0.577778</td>\n",
       "      <td>-4.050000</td>\n",
       "      <td>0.89</td>\n",
       "      <td>17.1143</td>\n",
       "      <td>140.0</td>\n",
       "      <td>9.9820</td>\n",
       "      <td>1016.66</td>\n",
       "    </tr>\n",
       "    <tr>\n",
       "      <th>2006-01-01 00:00:00+00:00</th>\n",
       "      <td>Mostly Cloudy</td>\n",
       "      <td>rain</td>\n",
       "      <td>1.161111</td>\n",
       "      <td>-3.238889</td>\n",
       "      <td>0.85</td>\n",
       "      <td>16.6152</td>\n",
       "      <td>139.0</td>\n",
       "      <td>9.9015</td>\n",
       "      <td>1016.15</td>\n",
       "    </tr>\n",
       "    <tr>\n",
       "      <th>2006-01-01 01:00:00+00:00</th>\n",
       "      <td>Mostly Cloudy</td>\n",
       "      <td>rain</td>\n",
       "      <td>1.666667</td>\n",
       "      <td>-3.155556</td>\n",
       "      <td>0.82</td>\n",
       "      <td>20.2538</td>\n",
       "      <td>140.0</td>\n",
       "      <td>9.9015</td>\n",
       "      <td>1015.87</td>\n",
       "    </tr>\n",
       "    <tr>\n",
       "      <th>2006-01-01 02:00:00+00:00</th>\n",
       "      <td>Overcast</td>\n",
       "      <td>rain</td>\n",
       "      <td>1.711111</td>\n",
       "      <td>-2.194444</td>\n",
       "      <td>0.82</td>\n",
       "      <td>14.4900</td>\n",
       "      <td>140.0</td>\n",
       "      <td>9.9015</td>\n",
       "      <td>1015.56</td>\n",
       "    </tr>\n",
       "    <tr>\n",
       "      <th>2006-01-01 03:00:00+00:00</th>\n",
       "      <td>Mostly Cloudy</td>\n",
       "      <td>rain</td>\n",
       "      <td>1.183333</td>\n",
       "      <td>-2.744444</td>\n",
       "      <td>0.86</td>\n",
       "      <td>13.9426</td>\n",
       "      <td>134.0</td>\n",
       "      <td>9.9015</td>\n",
       "      <td>1014.98</td>\n",
       "    </tr>\n",
       "    <tr>\n",
       "      <th>...</th>\n",
       "      <td>...</td>\n",
       "      <td>...</td>\n",
       "      <td>...</td>\n",
       "      <td>...</td>\n",
       "      <td>...</td>\n",
       "      <td>...</td>\n",
       "      <td>...</td>\n",
       "      <td>...</td>\n",
       "      <td>...</td>\n",
       "    </tr>\n",
       "    <tr>\n",
       "      <th>2016-12-31 18:00:00+00:00</th>\n",
       "      <td>Mostly Cloudy</td>\n",
       "      <td>rain</td>\n",
       "      <td>0.488889</td>\n",
       "      <td>-2.644444</td>\n",
       "      <td>0.86</td>\n",
       "      <td>9.7566</td>\n",
       "      <td>167.0</td>\n",
       "      <td>8.0178</td>\n",
       "      <td>1020.03</td>\n",
       "    </tr>\n",
       "    <tr>\n",
       "      <th>2016-12-31 19:00:00+00:00</th>\n",
       "      <td>Mostly Cloudy</td>\n",
       "      <td>rain</td>\n",
       "      <td>0.072222</td>\n",
       "      <td>-3.050000</td>\n",
       "      <td>0.88</td>\n",
       "      <td>9.4185</td>\n",
       "      <td>169.0</td>\n",
       "      <td>7.2450</td>\n",
       "      <td>1020.27</td>\n",
       "    </tr>\n",
       "    <tr>\n",
       "      <th>2016-12-31 20:00:00+00:00</th>\n",
       "      <td>Mostly Cloudy</td>\n",
       "      <td>snow</td>\n",
       "      <td>-0.233333</td>\n",
       "      <td>-3.377778</td>\n",
       "      <td>0.89</td>\n",
       "      <td>9.2736</td>\n",
       "      <td>175.0</td>\n",
       "      <td>9.5795</td>\n",
       "      <td>1020.50</td>\n",
       "    </tr>\n",
       "    <tr>\n",
       "      <th>2016-12-31 21:00:00+00:00</th>\n",
       "      <td>Mostly Cloudy</td>\n",
       "      <td>snow</td>\n",
       "      <td>-0.472222</td>\n",
       "      <td>-3.644444</td>\n",
       "      <td>0.91</td>\n",
       "      <td>9.2414</td>\n",
       "      <td>182.0</td>\n",
       "      <td>8.4042</td>\n",
       "      <td>1020.65</td>\n",
       "    </tr>\n",
       "    <tr>\n",
       "      <th>2016-12-31 22:00:00+00:00</th>\n",
       "      <td>Mostly Cloudy</td>\n",
       "      <td>snow</td>\n",
       "      <td>-0.677778</td>\n",
       "      <td>-3.888889</td>\n",
       "      <td>0.92</td>\n",
       "      <td>9.2253</td>\n",
       "      <td>189.0</td>\n",
       "      <td>8.8711</td>\n",
       "      <td>1020.72</td>\n",
       "    </tr>\n",
       "  </tbody>\n",
       "</table>\n",
       "<p>96381 rows × 9 columns</p>\n",
       "</div>"
      ],
      "text/plain": [
       "                                 Summary Precip Type  Temperature (C)  \\\n",
       "Date                                                                    \n",
       "2005-12-31 23:00:00+00:00  Partly Cloudy        rain         0.577778   \n",
       "2006-01-01 00:00:00+00:00  Mostly Cloudy        rain         1.161111   \n",
       "2006-01-01 01:00:00+00:00  Mostly Cloudy        rain         1.666667   \n",
       "2006-01-01 02:00:00+00:00       Overcast        rain         1.711111   \n",
       "2006-01-01 03:00:00+00:00  Mostly Cloudy        rain         1.183333   \n",
       "...                                  ...         ...              ...   \n",
       "2016-12-31 18:00:00+00:00  Mostly Cloudy        rain         0.488889   \n",
       "2016-12-31 19:00:00+00:00  Mostly Cloudy        rain         0.072222   \n",
       "2016-12-31 20:00:00+00:00  Mostly Cloudy        snow        -0.233333   \n",
       "2016-12-31 21:00:00+00:00  Mostly Cloudy        snow        -0.472222   \n",
       "2016-12-31 22:00:00+00:00  Mostly Cloudy        snow        -0.677778   \n",
       "\n",
       "                           Apparent Temperature (C)  Humidity  \\\n",
       "Date                                                            \n",
       "2005-12-31 23:00:00+00:00                 -4.050000      0.89   \n",
       "2006-01-01 00:00:00+00:00                 -3.238889      0.85   \n",
       "2006-01-01 01:00:00+00:00                 -3.155556      0.82   \n",
       "2006-01-01 02:00:00+00:00                 -2.194444      0.82   \n",
       "2006-01-01 03:00:00+00:00                 -2.744444      0.86   \n",
       "...                                             ...       ...   \n",
       "2016-12-31 18:00:00+00:00                 -2.644444      0.86   \n",
       "2016-12-31 19:00:00+00:00                 -3.050000      0.88   \n",
       "2016-12-31 20:00:00+00:00                 -3.377778      0.89   \n",
       "2016-12-31 21:00:00+00:00                 -3.644444      0.91   \n",
       "2016-12-31 22:00:00+00:00                 -3.888889      0.92   \n",
       "\n",
       "                           Wind Speed (km/h)  Wind Bearing (degrees)  \\\n",
       "Date                                                                   \n",
       "2005-12-31 23:00:00+00:00            17.1143                   140.0   \n",
       "2006-01-01 00:00:00+00:00            16.6152                   139.0   \n",
       "2006-01-01 01:00:00+00:00            20.2538                   140.0   \n",
       "2006-01-01 02:00:00+00:00            14.4900                   140.0   \n",
       "2006-01-01 03:00:00+00:00            13.9426                   134.0   \n",
       "...                                      ...                     ...   \n",
       "2016-12-31 18:00:00+00:00             9.7566                   167.0   \n",
       "2016-12-31 19:00:00+00:00             9.4185                   169.0   \n",
       "2016-12-31 20:00:00+00:00             9.2736                   175.0   \n",
       "2016-12-31 21:00:00+00:00             9.2414                   182.0   \n",
       "2016-12-31 22:00:00+00:00             9.2253                   189.0   \n",
       "\n",
       "                           Visibility (km)  Pressure (millibars)  \n",
       "Date                                                              \n",
       "2005-12-31 23:00:00+00:00           9.9820               1016.66  \n",
       "2006-01-01 00:00:00+00:00           9.9015               1016.15  \n",
       "2006-01-01 01:00:00+00:00           9.9015               1015.87  \n",
       "2006-01-01 02:00:00+00:00           9.9015               1015.56  \n",
       "2006-01-01 03:00:00+00:00           9.9015               1014.98  \n",
       "...                                    ...                   ...  \n",
       "2016-12-31 18:00:00+00:00           8.0178               1020.03  \n",
       "2016-12-31 19:00:00+00:00           7.2450               1020.27  \n",
       "2016-12-31 20:00:00+00:00           9.5795               1020.50  \n",
       "2016-12-31 21:00:00+00:00           8.4042               1020.65  \n",
       "2016-12-31 22:00:00+00:00           8.8711               1020.72  \n",
       "\n",
       "[96381 rows x 9 columns]"
      ]
     },
     "execution_count": 16,
     "metadata": {},
     "output_type": "execute_result"
    }
   ],
   "source": [
    "df.drop_duplicates(keep='first')\n"
   ]
  },
  {
   "cell_type": "code",
   "execution_count": null,
   "id": "cd79ec3e",
   "metadata": {},
   "outputs": [],
   "source": []
  },
  {
   "cell_type": "markdown",
   "id": "7d1fdb61",
   "metadata": {},
   "source": [
    "# Visual Exploration "
   ]
  },
  {
   "cell_type": "code",
   "execution_count": 17,
   "id": "124b8eb4",
   "metadata": {},
   "outputs": [
    {
     "name": "stdout",
     "output_type": "stream",
     "text": [
      "numerical columns are ['Visibility (km)', 'Pressure (millibars)', 'Wind Bearing (degrees)', 'Temperature (C)', 'Humidity', 'Loud Cover', 'Apparent Temperature (C)', 'Wind Speed (km/h)']\n",
      "categorical columns are ['Precip Type', 'Summary']\n"
     ]
    }
   ],
   "source": [
    "#separate num and categorical data\n",
    "num_cols = list(set(train_data.describe().columns.to_list()))\n",
    "cat_cols = list(set(train_data.columns.to_list()) - set(num_cols))\n",
    "print(\"numerical columns are {}\".format(num_cols))\n",
    "print(\"categorical columns are {}\".format(cat_cols))"
   ]
  },
  {
   "cell_type": "code",
   "execution_count": 18,
   "id": "e034f930",
   "metadata": {},
   "outputs": [
    {
     "data": {
      "text/html": [
       "<div>\n",
       "<style scoped>\n",
       "    .dataframe tbody tr th:only-of-type {\n",
       "        vertical-align: middle;\n",
       "    }\n",
       "\n",
       "    .dataframe tbody tr th {\n",
       "        vertical-align: top;\n",
       "    }\n",
       "\n",
       "    .dataframe thead th {\n",
       "        text-align: right;\n",
       "    }\n",
       "</style>\n",
       "<table border=\"1\" class=\"dataframe\">\n",
       "  <thead>\n",
       "    <tr style=\"text-align: right;\">\n",
       "      <th></th>\n",
       "      <th>Visibility (km)</th>\n",
       "      <th>Pressure (millibars)</th>\n",
       "      <th>Wind Bearing (degrees)</th>\n",
       "      <th>Temperature (C)</th>\n",
       "      <th>Humidity</th>\n",
       "      <th>Loud Cover</th>\n",
       "      <th>Apparent Temperature (C)</th>\n",
       "      <th>Wind Speed (km/h)</th>\n",
       "    </tr>\n",
       "    <tr>\n",
       "      <th>Date</th>\n",
       "      <th></th>\n",
       "      <th></th>\n",
       "      <th></th>\n",
       "      <th></th>\n",
       "      <th></th>\n",
       "      <th></th>\n",
       "      <th></th>\n",
       "      <th></th>\n",
       "    </tr>\n",
       "  </thead>\n",
       "  <tbody>\n",
       "    <tr>\n",
       "      <th>2015-06-12 22:00:00+00:00</th>\n",
       "      <td>16.1000</td>\n",
       "      <td>1014.48</td>\n",
       "      <td>160.0</td>\n",
       "      <td>19.933333</td>\n",
       "      <td>0.74</td>\n",
       "      <td>0.0</td>\n",
       "      <td>19.933333</td>\n",
       "      <td>6.2951</td>\n",
       "    </tr>\n",
       "    <tr>\n",
       "      <th>2008-12-08 13:00:00+00:00</th>\n",
       "      <td>11.2056</td>\n",
       "      <td>1022.95</td>\n",
       "      <td>310.0</td>\n",
       "      <td>6.161111</td>\n",
       "      <td>0.64</td>\n",
       "      <td>0.0</td>\n",
       "      <td>3.250000</td>\n",
       "      <td>14.6349</td>\n",
       "    </tr>\n",
       "    <tr>\n",
       "      <th>2009-01-04 20:00:00+00:00</th>\n",
       "      <td>4.9910</td>\n",
       "      <td>1020.20</td>\n",
       "      <td>220.0</td>\n",
       "      <td>-6.111111</td>\n",
       "      <td>0.84</td>\n",
       "      <td>0.0</td>\n",
       "      <td>-11.811111</td>\n",
       "      <td>14.4900</td>\n",
       "    </tr>\n",
       "    <tr>\n",
       "      <th>2012-10-25 08:00:00+00:00</th>\n",
       "      <td>2.5438</td>\n",
       "      <td>1016.41</td>\n",
       "      <td>0.0</td>\n",
       "      <td>11.016667</td>\n",
       "      <td>0.93</td>\n",
       "      <td>0.0</td>\n",
       "      <td>11.016667</td>\n",
       "      <td>0.0000</td>\n",
       "    </tr>\n",
       "    <tr>\n",
       "      <th>2008-10-20 01:00:00+00:00</th>\n",
       "      <td>1.2880</td>\n",
       "      <td>1026.41</td>\n",
       "      <td>60.0</td>\n",
       "      <td>5.927778</td>\n",
       "      <td>0.93</td>\n",
       "      <td>0.0</td>\n",
       "      <td>4.755556</td>\n",
       "      <td>6.1502</td>\n",
       "    </tr>\n",
       "    <tr>\n",
       "      <th>...</th>\n",
       "      <td>...</td>\n",
       "      <td>...</td>\n",
       "      <td>...</td>\n",
       "      <td>...</td>\n",
       "      <td>...</td>\n",
       "      <td>...</td>\n",
       "      <td>...</td>\n",
       "      <td>...</td>\n",
       "    </tr>\n",
       "    <tr>\n",
       "      <th>2006-09-19 00:00:00+00:00</th>\n",
       "      <td>4.4436</td>\n",
       "      <td>1013.26</td>\n",
       "      <td>359.0</td>\n",
       "      <td>16.611111</td>\n",
       "      <td>0.96</td>\n",
       "      <td>0.0</td>\n",
       "      <td>16.611111</td>\n",
       "      <td>5.2647</td>\n",
       "    </tr>\n",
       "    <tr>\n",
       "      <th>2012-04-04 21:00:00+00:00</th>\n",
       "      <td>15.1501</td>\n",
       "      <td>1010.66</td>\n",
       "      <td>199.0</td>\n",
       "      <td>15.050000</td>\n",
       "      <td>0.71</td>\n",
       "      <td>0.0</td>\n",
       "      <td>15.050000</td>\n",
       "      <td>16.8567</td>\n",
       "    </tr>\n",
       "    <tr>\n",
       "      <th>2014-10-05 22:00:00+00:00</th>\n",
       "      <td>11.9301</td>\n",
       "      <td>1021.30</td>\n",
       "      <td>0.0</td>\n",
       "      <td>6.927778</td>\n",
       "      <td>0.93</td>\n",
       "      <td>0.0</td>\n",
       "      <td>6.927778</td>\n",
       "      <td>0.0000</td>\n",
       "    </tr>\n",
       "    <tr>\n",
       "      <th>2006-02-05 19:00:00+00:00</th>\n",
       "      <td>10.0464</td>\n",
       "      <td>1027.58</td>\n",
       "      <td>21.0</td>\n",
       "      <td>-7.105556</td>\n",
       "      <td>0.68</td>\n",
       "      <td>0.0</td>\n",
       "      <td>-13.611111</td>\n",
       "      <td>17.0821</td>\n",
       "    </tr>\n",
       "    <tr>\n",
       "      <th>2007-10-21 02:00:00+00:00</th>\n",
       "      <td>15.8263</td>\n",
       "      <td>1023.18</td>\n",
       "      <td>9.0</td>\n",
       "      <td>3.238889</td>\n",
       "      <td>0.82</td>\n",
       "      <td>0.0</td>\n",
       "      <td>-0.250000</td>\n",
       "      <td>14.1036</td>\n",
       "    </tr>\n",
       "  </tbody>\n",
       "</table>\n",
       "<p>72339 rows × 8 columns</p>\n",
       "</div>"
      ],
      "text/plain": [
       "                           Visibility (km)  Pressure (millibars)  \\\n",
       "Date                                                               \n",
       "2015-06-12 22:00:00+00:00          16.1000               1014.48   \n",
       "2008-12-08 13:00:00+00:00          11.2056               1022.95   \n",
       "2009-01-04 20:00:00+00:00           4.9910               1020.20   \n",
       "2012-10-25 08:00:00+00:00           2.5438               1016.41   \n",
       "2008-10-20 01:00:00+00:00           1.2880               1026.41   \n",
       "...                                    ...                   ...   \n",
       "2006-09-19 00:00:00+00:00           4.4436               1013.26   \n",
       "2012-04-04 21:00:00+00:00          15.1501               1010.66   \n",
       "2014-10-05 22:00:00+00:00          11.9301               1021.30   \n",
       "2006-02-05 19:00:00+00:00          10.0464               1027.58   \n",
       "2007-10-21 02:00:00+00:00          15.8263               1023.18   \n",
       "\n",
       "                           Wind Bearing (degrees)  Temperature (C)  Humidity  \\\n",
       "Date                                                                           \n",
       "2015-06-12 22:00:00+00:00                   160.0        19.933333      0.74   \n",
       "2008-12-08 13:00:00+00:00                   310.0         6.161111      0.64   \n",
       "2009-01-04 20:00:00+00:00                   220.0        -6.111111      0.84   \n",
       "2012-10-25 08:00:00+00:00                     0.0        11.016667      0.93   \n",
       "2008-10-20 01:00:00+00:00                    60.0         5.927778      0.93   \n",
       "...                                           ...              ...       ...   \n",
       "2006-09-19 00:00:00+00:00                   359.0        16.611111      0.96   \n",
       "2012-04-04 21:00:00+00:00                   199.0        15.050000      0.71   \n",
       "2014-10-05 22:00:00+00:00                     0.0         6.927778      0.93   \n",
       "2006-02-05 19:00:00+00:00                    21.0        -7.105556      0.68   \n",
       "2007-10-21 02:00:00+00:00                     9.0         3.238889      0.82   \n",
       "\n",
       "                           Loud Cover  Apparent Temperature (C)  \\\n",
       "Date                                                              \n",
       "2015-06-12 22:00:00+00:00         0.0                 19.933333   \n",
       "2008-12-08 13:00:00+00:00         0.0                  3.250000   \n",
       "2009-01-04 20:00:00+00:00         0.0                -11.811111   \n",
       "2012-10-25 08:00:00+00:00         0.0                 11.016667   \n",
       "2008-10-20 01:00:00+00:00         0.0                  4.755556   \n",
       "...                               ...                       ...   \n",
       "2006-09-19 00:00:00+00:00         0.0                 16.611111   \n",
       "2012-04-04 21:00:00+00:00         0.0                 15.050000   \n",
       "2014-10-05 22:00:00+00:00         0.0                  6.927778   \n",
       "2006-02-05 19:00:00+00:00         0.0                -13.611111   \n",
       "2007-10-21 02:00:00+00:00         0.0                 -0.250000   \n",
       "\n",
       "                           Wind Speed (km/h)  \n",
       "Date                                          \n",
       "2015-06-12 22:00:00+00:00             6.2951  \n",
       "2008-12-08 13:00:00+00:00            14.6349  \n",
       "2009-01-04 20:00:00+00:00            14.4900  \n",
       "2012-10-25 08:00:00+00:00             0.0000  \n",
       "2008-10-20 01:00:00+00:00             6.1502  \n",
       "...                                      ...  \n",
       "2006-09-19 00:00:00+00:00             5.2647  \n",
       "2012-04-04 21:00:00+00:00            16.8567  \n",
       "2014-10-05 22:00:00+00:00             0.0000  \n",
       "2006-02-05 19:00:00+00:00            17.0821  \n",
       "2007-10-21 02:00:00+00:00            14.1036  \n",
       "\n",
       "[72339 rows x 8 columns]"
      ]
     },
     "execution_count": 18,
     "metadata": {},
     "output_type": "execute_result"
    }
   ],
   "source": [
    "train_data[num_cols]"
   ]
  },
  {
   "cell_type": "code",
   "execution_count": 19,
   "id": "2146c611",
   "metadata": {},
   "outputs": [
    {
     "data": {
      "image/png": "[encoded data removed]",
      "text/plain": [
       "<Figure size 1440x1080 with 9 Axes>"
      ]
     },
     "metadata": {
      "needs_background": "light"
     },
     "output_type": "display_data"
    }
   ],
   "source": [
    "%matplotlib inline\n",
    "import matplotlib.pyplot as plt\n",
    "train_data[num_cols].hist(bins = 10, figsize = (20, 15));"
   ]
  },
  {
   "cell_type": "code",
   "execution_count": 20,
   "id": "0d185f6a",
   "metadata": {},
   "outputs": [
    {
     "data": {
      "image/png": "[encoded data removed]",
      "text/plain": [
       "<Figure size 720x720 with 5 Axes>"
      ]
     },
     "metadata": {
      "needs_background": "light"
     },
     "output_type": "display_data"
    }
   ],
   "source": [
    "figure,axis = plt.subplots(5,1,figsize=(10,10))\n",
    "c=0\n",
    "for i in range(5):\n",
    "    sns.boxplot(data=train_data,x=num_cols[c],ax=axis[c])\n",
    "    c+=1"
   ]
  },
  {
   "cell_type": "code",
   "execution_count": 21,
   "id": "96ca80b7",
   "metadata": {},
   "outputs": [],
   "source": [
    "corr_matrix=train_data[num_cols].corr()"
   ]
  },
  {
   "cell_type": "code",
   "execution_count": 22,
   "id": "0eae309e",
   "metadata": {},
   "outputs": [
    {
     "data": {
      "text/plain": [
       "['Visibility (km)',\n",
       " 'Pressure (millibars)',\n",
       " 'Wind Bearing (degrees)',\n",
       " 'Temperature (C)',\n",
       " 'Humidity',\n",
       " 'Loud Cover',\n",
       " 'Apparent Temperature (C)',\n",
       " 'Wind Speed (km/h)']"
      ]
     },
     "execution_count": 22,
     "metadata": {},
     "output_type": "execute_result"
    }
   ],
   "source": [
    "num_cols"
   ]
  },
  {
   "cell_type": "code",
   "execution_count": 23,
   "id": "c05b98b3",
   "metadata": {},
   "outputs": [
    {
     "data": {
      "text/html": [
       "<div>\n",
       "<style scoped>\n",
       "    .dataframe tbody tr th:only-of-type {\n",
       "        vertical-align: middle;\n",
       "    }\n",
       "\n",
       "    .dataframe tbody tr th {\n",
       "        vertical-align: top;\n",
       "    }\n",
       "\n",
       "    .dataframe thead th {\n",
       "        text-align: right;\n",
       "    }\n",
       "</style>\n",
       "<table border=\"1\" class=\"dataframe\">\n",
       "  <thead>\n",
       "    <tr style=\"text-align: right;\">\n",
       "      <th></th>\n",
       "      <th>Visibility (km)</th>\n",
       "      <th>Pressure (millibars)</th>\n",
       "      <th>Wind Bearing (degrees)</th>\n",
       "      <th>Temperature (C)</th>\n",
       "      <th>Humidity</th>\n",
       "      <th>Loud Cover</th>\n",
       "      <th>Apparent Temperature (C)</th>\n",
       "      <th>Wind Speed (km/h)</th>\n",
       "    </tr>\n",
       "  </thead>\n",
       "  <tbody>\n",
       "    <tr>\n",
       "      <th>Visibility (km)</th>\n",
       "      <td>1.000000</td>\n",
       "      <td>0.057860</td>\n",
       "      <td>0.047150</td>\n",
       "      <td>0.396138</td>\n",
       "      <td>-0.370966</td>\n",
       "      <td>NaN</td>\n",
       "      <td>0.385077</td>\n",
       "      <td>0.100069</td>\n",
       "    </tr>\n",
       "    <tr>\n",
       "      <th>Pressure (millibars)</th>\n",
       "      <td>0.057860</td>\n",
       "      <td>1.000000</td>\n",
       "      <td>-0.010135</td>\n",
       "      <td>-0.004937</td>\n",
       "      <td>0.006267</td>\n",
       "      <td>NaN</td>\n",
       "      <td>0.000807</td>\n",
       "      <td>-0.052644</td>\n",
       "    </tr>\n",
       "    <tr>\n",
       "      <th>Wind Bearing (degrees)</th>\n",
       "      <td>0.047150</td>\n",
       "      <td>-0.010135</td>\n",
       "      <td>1.000000</td>\n",
       "      <td>0.030613</td>\n",
       "      <td>0.001249</td>\n",
       "      <td>NaN</td>\n",
       "      <td>0.029385</td>\n",
       "      <td>0.105005</td>\n",
       "    </tr>\n",
       "    <tr>\n",
       "      <th>Temperature (C)</th>\n",
       "      <td>0.396138</td>\n",
       "      <td>-0.004937</td>\n",
       "      <td>0.030613</td>\n",
       "      <td>1.000000</td>\n",
       "      <td>-0.633265</td>\n",
       "      <td>NaN</td>\n",
       "      <td>0.992639</td>\n",
       "      <td>0.006405</td>\n",
       "    </tr>\n",
       "    <tr>\n",
       "      <th>Humidity</th>\n",
       "      <td>-0.370966</td>\n",
       "      <td>0.006267</td>\n",
       "      <td>0.001249</td>\n",
       "      <td>-0.633265</td>\n",
       "      <td>1.000000</td>\n",
       "      <td>NaN</td>\n",
       "      <td>-0.603435</td>\n",
       "      <td>-0.222517</td>\n",
       "    </tr>\n",
       "    <tr>\n",
       "      <th>Loud Cover</th>\n",
       "      <td>NaN</td>\n",
       "      <td>NaN</td>\n",
       "      <td>NaN</td>\n",
       "      <td>NaN</td>\n",
       "      <td>NaN</td>\n",
       "      <td>NaN</td>\n",
       "      <td>NaN</td>\n",
       "      <td>NaN</td>\n",
       "    </tr>\n",
       "    <tr>\n",
       "      <th>Apparent Temperature (C)</th>\n",
       "      <td>0.385077</td>\n",
       "      <td>0.000807</td>\n",
       "      <td>0.029385</td>\n",
       "      <td>0.992639</td>\n",
       "      <td>-0.603435</td>\n",
       "      <td>NaN</td>\n",
       "      <td>1.000000</td>\n",
       "      <td>-0.059188</td>\n",
       "    </tr>\n",
       "    <tr>\n",
       "      <th>Wind Speed (km/h)</th>\n",
       "      <td>0.100069</td>\n",
       "      <td>-0.052644</td>\n",
       "      <td>0.105005</td>\n",
       "      <td>0.006405</td>\n",
       "      <td>-0.222517</td>\n",
       "      <td>NaN</td>\n",
       "      <td>-0.059188</td>\n",
       "      <td>1.000000</td>\n",
       "    </tr>\n",
       "  </tbody>\n",
       "</table>\n",
       "</div>"
      ],
      "text/plain": [
       "                          Visibility (km)  Pressure (millibars)  \\\n",
       "Visibility (km)                  1.000000              0.057860   \n",
       "Pressure (millibars)             0.057860              1.000000   \n",
       "Wind Bearing (degrees)           0.047150             -0.010135   \n",
       "Temperature (C)                  0.396138             -0.004937   \n",
       "Humidity                        -0.370966              0.006267   \n",
       "Loud Cover                            NaN                   NaN   \n",
       "Apparent Temperature (C)         0.385077              0.000807   \n",
       "Wind Speed (km/h)                0.100069             -0.052644   \n",
       "\n",
       "                          Wind Bearing (degrees)  Temperature (C)  Humidity  \\\n",
       "Visibility (km)                         0.047150         0.396138 -0.370966   \n",
       "Pressure (millibars)                   -0.010135        -0.004937  0.006267   \n",
       "Wind Bearing (degrees)                  1.000000         0.030613  0.001249   \n",
       "Temperature (C)                         0.030613         1.000000 -0.633265   \n",
       "Humidity                                0.001249        -0.633265  1.000000   \n",
       "Loud Cover                                   NaN              NaN       NaN   \n",
       "Apparent Temperature (C)                0.029385         0.992639 -0.603435   \n",
       "Wind Speed (km/h)                       0.105005         0.006405 -0.222517   \n",
       "\n",
       "                          Loud Cover  Apparent Temperature (C)  \\\n",
       "Visibility (km)                  NaN                  0.385077   \n",
       "Pressure (millibars)             NaN                  0.000807   \n",
       "Wind Bearing (degrees)           NaN                  0.029385   \n",
       "Temperature (C)                  NaN                  0.992639   \n",
       "Humidity                         NaN                 -0.603435   \n",
       "Loud Cover                       NaN                       NaN   \n",
       "Apparent Temperature (C)         NaN                  1.000000   \n",
       "Wind Speed (km/h)                NaN                 -0.059188   \n",
       "\n",
       "                          Wind Speed (km/h)  \n",
       "Visibility (km)                    0.100069  \n",
       "Pressure (millibars)              -0.052644  \n",
       "Wind Bearing (degrees)             0.105005  \n",
       "Temperature (C)                    0.006405  \n",
       "Humidity                          -0.222517  \n",
       "Loud Cover                              NaN  \n",
       "Apparent Temperature (C)          -0.059188  \n",
       "Wind Speed (km/h)                  1.000000  "
      ]
     },
     "execution_count": 23,
     "metadata": {},
     "output_type": "execute_result"
    }
   ],
   "source": [
    "corr_matrix"
   ]
  },
  {
   "cell_type": "code",
   "execution_count": 24,
   "id": "cee0c799",
   "metadata": {
    "scrolled": true
   },
   "outputs": [
    {
     "data": {
      "image/png": "[encoded data removed]",
      "text/plain": [
       "<Figure size 1080x1080 with 2 Axes>"
      ]
     },
     "metadata": {
      "needs_background": "light"
     },
     "output_type": "display_data"
    }
   ],
   "source": [
    "# making a heatmap to inspect the highly correlated features\n",
    "import seaborn as sns\n",
    "plt.subplots(figsize = (15, 15))\n",
    "sns.heatmap(corr_matrix, annot=True,\n",
    "           xticklabels = corr_matrix.columns.values,\n",
    "           yticklabels = corr_matrix.columns.values, \n",
    "           linewidth = 0.1);"
   ]
  },
  {
   "cell_type": "markdown",
   "id": "38478384",
   "metadata": {},
   "source": [
    "### EDA"
   ]
  },
  {
   "cell_type": "markdown",
   "id": "d93a9296",
   "metadata": {},
   "source": [
    "### HANDLE NULLS\n"
   ]
  },
  {
   "cell_type": "code",
   "execution_count": 25,
   "id": "05f9c233",
   "metadata": {},
   "outputs": [
    {
     "name": "stdout",
     "output_type": "stream",
     "text": [
      "<class 'pandas.core.frame.DataFrame'>\n",
      "DatetimeIndex: 72339 entries, 2015-06-12 22:00:00+00:00 to 2007-10-21 02:00:00+00:00\n",
      "Data columns (total 10 columns):\n",
      " #   Column                    Non-Null Count  Dtype  \n",
      "---  ------                    --------------  -----  \n",
      " 0   Summary                   72339 non-null  object \n",
      " 1   Precip Type               71962 non-null  object \n",
      " 2   Temperature (C)           72339 non-null  float64\n",
      " 3   Apparent Temperature (C)  72339 non-null  float64\n",
      " 4   Humidity                  72339 non-null  float64\n",
      " 5   Wind Speed (km/h)         72339 non-null  float64\n",
      " 6   Wind Bearing (degrees)    72339 non-null  float64\n",
      " 7   Visibility (km)           72339 non-null  float64\n",
      " 8   Loud Cover                72339 non-null  float64\n",
      " 9   Pressure (millibars)      72339 non-null  float64\n",
      "dtypes: float64(8), object(2)\n",
      "memory usage: 6.1+ MB\n"
     ]
    }
   ],
   "source": [
    "#To check the datatypes of dataset\n",
    "train_data.info()"
   ]
  },
  {
   "cell_type": "markdown",
   "id": "fa34c4af",
   "metadata": {},
   "source": [
    " we can see that there are 9 float type columns  3 object type columns\n"
   ]
  },
  {
   "cell_type": "code",
   "execution_count": 26,
   "id": "52db8249",
   "metadata": {},
   "outputs": [
    {
     "data": {
      "text/plain": [
       "Summary                       0\n",
       "Precip Type                 377\n",
       "Temperature (C)               0\n",
       "Apparent Temperature (C)      0\n",
       "Humidity                      0\n",
       "Wind Speed (km/h)             0\n",
       "Wind Bearing (degrees)        0\n",
       "Visibility (km)               0\n",
       "Loud Cover                    0\n",
       "Pressure (millibars)          0\n",
       "dtype: int64"
      ]
     },
     "execution_count": 26,
     "metadata": {},
     "output_type": "execute_result"
    }
   ],
   "source": [
    "train_data.isna().sum()"
   ]
  },
  {
   "cell_type": "code",
   "execution_count": 27,
   "id": "8a7989c8",
   "metadata": {},
   "outputs": [],
   "source": [
    "train_data['Precip Type'].replace([np.nan],\"other\", inplace=True)\n",
    "test_data['Precip Type'].replace([np.nan],\"other\", inplace=True)\n"
   ]
  },
  {
   "cell_type": "code",
   "execution_count": 28,
   "id": "2af533cb",
   "metadata": {},
   "outputs": [
    {
     "data": {
      "text/plain": [
       "Date\n",
       "2015-06-12 22:00:00+00:00    rain\n",
       "2008-12-08 13:00:00+00:00    rain\n",
       "2009-01-04 20:00:00+00:00    snow\n",
       "2012-10-25 08:00:00+00:00    rain\n",
       "2008-10-20 01:00:00+00:00    rain\n",
       "                             ... \n",
       "2006-09-19 00:00:00+00:00    rain\n",
       "2012-04-04 21:00:00+00:00    rain\n",
       "2014-10-05 22:00:00+00:00    rain\n",
       "2006-02-05 19:00:00+00:00    snow\n",
       "2007-10-21 02:00:00+00:00    rain\n",
       "Name: Precip Type, Length: 72339, dtype: object"
      ]
     },
     "execution_count": 28,
     "metadata": {},
     "output_type": "execute_result"
    }
   ],
   "source": [
    "train_data['Precip Type']"
   ]
  },
  {
   "cell_type": "code",
   "execution_count": 29,
   "id": "75224c5d",
   "metadata": {},
   "outputs": [
    {
     "data": {
      "text/plain": [
       "Summary                     0\n",
       "Precip Type                 0\n",
       "Temperature (C)             0\n",
       "Apparent Temperature (C)    0\n",
       "Humidity                    0\n",
       "Wind Speed (km/h)           0\n",
       "Wind Bearing (degrees)      0\n",
       "Visibility (km)             0\n",
       "Loud Cover                  0\n",
       "Pressure (millibars)        0\n",
       "dtype: int64"
      ]
     },
     "execution_count": 29,
     "metadata": {},
     "output_type": "execute_result"
    }
   ],
   "source": [
    "train_data.isna().sum()"
   ]
  },
  {
   "cell_type": "code",
   "execution_count": 30,
   "id": "c49f51b1",
   "metadata": {},
   "outputs": [
    {
     "data": {
      "text/plain": [
       "Partly Cloudy                          23851\n",
       "Mostly Cloudy                          21037\n",
       "Overcast                               12411\n",
       "Clear                                   8134\n",
       "Foggy                                   5393\n",
       "Breezy and Overcast                      400\n",
       "Breezy and Mostly Cloudy                 386\n",
       "Breezy and Partly Cloudy                 284\n",
       "Dry and Partly Cloudy                     64\n",
       "Windy and Partly Cloudy                   56\n",
       "Light Rain                                53\n",
       "Breezy                                    45\n",
       "Windy and Overcast                        39\n",
       "Humid and Mostly Cloudy                   34\n",
       "Drizzle                                   33\n",
       "Breezy and Foggy                          28\n",
       "Dry                                       26\n",
       "Windy and Mostly Cloudy                   23\n",
       "Humid and Partly Cloudy                   12\n",
       "Dry and Mostly Cloudy                      8\n",
       "Windy                                      6\n",
       "Humid and Overcast                         5\n",
       "Rain                                       5\n",
       "Windy and Foggy                            3\n",
       "Breezy and Dry                             1\n",
       "Dangerously Windy and Partly Cloudy        1\n",
       "Windy and Dry                              1\n",
       "Name: Summary, dtype: int64"
      ]
     },
     "execution_count": 30,
     "metadata": {},
     "output_type": "execute_result"
    }
   ],
   "source": [
    "# Summary\n",
    "\n",
    "train_data['Summary'].astype('category').value_counts()"
   ]
  },
  {
   "cell_type": "markdown",
   "id": "5c60bc1f",
   "metadata": {},
   "source": [
    "### Weather most of time `Partly Cloudy`  or `Mostly Cloudy`"
   ]
  },
  {
   "cell_type": "markdown",
   "id": "f03ab3a8",
   "metadata": {},
   "source": [
    "divide the Temperature values into 3 different bins, namely: low, medium, high\n",
    "We'll use the quantile values to create this bins"
   ]
  },
  {
   "cell_type": "markdown",
   "id": "2dced8d4",
   "metadata": {},
   "source": [
    "### handle skweness\n",
    "\n"
   ]
  },
  {
   "cell_type": "code",
   "execution_count": 31,
   "id": "f08688b1",
   "metadata": {},
   "outputs": [],
   "source": [
    "# Handle  skweness\n",
    "def skewness_calc(col ,df):\n",
    "    std_col = np.std(df[col])\n",
    "    mean_col = np.mean(df[col])\n",
    "    size_rows = df.count()[0]\n",
    "    df['diff_col'] = df[col] - mean_col\n",
    "    df['diff_col_powered'] = np.power(df['diff_col'], 3)\n",
    "    skewness = np.sum(df['diff_col_powered'])/((size_rows - 1) * np.power(std_col, 3))\n",
    "    df.drop(columns = ['diff_col_powered', 'diff_col'], inplace = True)\n",
    "    return skewness\n",
    "\n",
    "def skewed_data_transformation(value):\n",
    "  return np.log(1 + np.abs(value))"
   ]
  },
  {
   "cell_type": "code",
   "execution_count": 32,
   "id": "b88ab339",
   "metadata": {},
   "outputs": [
    {
     "name": "stderr",
     "output_type": "stream",
     "text": [
      "C:\\Users\\AYATOL~1\\AppData\\Local\\Temp/ipykernel_13548/3596089566.py:8: RuntimeWarning: invalid value encountered in double_scalars\n",
      "  skewness = np.sum(df['diff_col_powered'])/((size_rows - 1) * np.power(std_col, 3))\n"
     ]
    }
   ],
   "source": [
    "skewed_cols = []\n",
    "for col in num_cols: \n",
    "  sk = skewness_calc(col, train_data)\n",
    "  if (np.abs(sk) >= 1):\n",
    "    skewed_cols.append(col)\n",
    "    train_data[col] = train_data[col].apply(lambda x : skewed_data_transformation(x))\n",
    "    test_data[col] = test_data[col].apply(lambda x : skewed_data_transformation(x))"
   ]
  },
  {
   "cell_type": "code",
   "execution_count": 33,
   "id": "fb8ddc3e",
   "metadata": {},
   "outputs": [
    {
     "data": {
      "text/plain": [
       "['Pressure (millibars)', 'Wind Speed (km/h)']"
      ]
     },
     "execution_count": 33,
     "metadata": {},
     "output_type": "execute_result"
    }
   ],
   "source": [
    "skewed_cols"
   ]
  },
  {
   "cell_type": "markdown",
   "id": "ed752610",
   "metadata": {},
   "source": [
    "### Shapiro Wilk Test"
   ]
  },
  {
   "cell_type": "code",
   "execution_count": 34,
   "id": "3a407794",
   "metadata": {},
   "outputs": [
    {
     "name": "stdout",
     "output_type": "stream",
     "text": [
      "W_Statistic=0.889, p=0.00000045\n",
      "Visibility (km) does not look Gaussian (reject H0)\n",
      "W_Statistic=0.081, p=0.00000000\n",
      "Pressure (millibars) does not look Gaussian (reject H0)\n",
      "W_Statistic=0.952, p=0.00112752\n",
      "Wind Bearing (degrees) looks like gaussian (fail to reject H0)\n",
      "W_Statistic=0.989, p=0.57513916\n",
      "Temperature (C) looks like gaussian (fail to reject H0)\n",
      "W_Statistic=0.923, p=0.00002083\n",
      "Humidity does not look Gaussian (reject H0)\n",
      "W_Statistic=1.000, p=1.00000000\n",
      "Loud Cover looks like gaussian (fail to reject H0)\n",
      "W_Statistic=0.983, p=0.22418050\n",
      "Apparent Temperature (C) looks like gaussian (fail to reject H0)\n",
      "W_Statistic=0.982, p=0.19587161\n",
      "Wind Speed (km/h) looks like gaussian (fail to reject H0)\n"
     ]
    },
    {
     "name": "stderr",
     "output_type": "stream",
     "text": [
      "C:\\Users\\Ayatollah Elghali\\anaconda3\\lib\\site-packages\\scipy\\stats\\morestats.py:1757: UserWarning: Input data for shapiro has range zero. The results may not be accurate.\n",
      "  warnings.warn(\"Input data for shapiro has range zero. The results \"\n"
     ]
    }
   ],
   "source": [
    "feats_std_scale = []\n",
    "feats_min_max_scale = []\n",
    "sample_data  = train_data.sample(replace = False, n= 100)\n",
    "\n",
    "from scipy.stats import shapiro\n",
    "for col in num_cols:\n",
    "    stat, p = shapiro(sample_data[col])\n",
    "    print('W_Statistic=%.3f, p=%.8f' % (stat, p))\n",
    "\n",
    "    alpha = 0.001\n",
    "    if p > alpha:\n",
    "        print(f'{col} looks like gaussian (fail to reject H0)')\n",
    "        feats_std_scale.append(col)\n",
    "    else:\n",
    "        print(f'{col} does not look Gaussian (reject H0)')\n",
    "        feats_min_max_scale.append(col)"
   ]
  },
  {
   "cell_type": "code",
   "execution_count": 35,
   "id": "b1a10587",
   "metadata": {},
   "outputs": [],
   "source": [
    "from sklearn.preprocessing import MinMaxScaler\n",
    "from sklearn.preprocessing import StandardScaler\n",
    "\n",
    "min_max_scaler = MinMaxScaler()\n",
    "std_scaler = StandardScaler()\n",
    "# fitting\n",
    "min_max_scaler_model = min_max_scaler.fit(train_data[feats_min_max_scale])\n",
    "std_scaler_model = std_scaler.fit(train_data[feats_std_scale])\n",
    "# transforming min_max_scale\n",
    "train_data[feats_min_max_scale] = min_max_scaler_model.transform(train_data[feats_min_max_scale])\n",
    "test_data[feats_min_max_scale] = min_max_scaler_model.transform(test_data[feats_min_max_scale])\n",
    "# tranforming std_scale\n",
    "train_data[feats_std_scale] = std_scaler_model.transform(train_data[feats_std_scale])\n",
    "test_data[feats_std_scale]=std_scaler_model.transform(test_data[feats_std_scale])\n"
   ]
  },
  {
   "cell_type": "code",
   "execution_count": 36,
   "id": "19947a3a",
   "metadata": {},
   "outputs": [
    {
     "data": {
      "text/plain": [
       "['Wind Bearing (degrees)',\n",
       " 'Temperature (C)',\n",
       " 'Loud Cover',\n",
       " 'Apparent Temperature (C)',\n",
       " 'Wind Speed (km/h)']"
      ]
     },
     "execution_count": 36,
     "metadata": {},
     "output_type": "execute_result"
    }
   ],
   "source": [
    "feats_std_scale"
   ]
  },
  {
   "cell_type": "code",
   "execution_count": 37,
   "id": "11522169",
   "metadata": {},
   "outputs": [],
   "source": [
    "Q1 = train_data[\"Temperature (C)\"].quantile(0.25)\n",
    "Q2 = train_data[\"Temperature (C)\"].quantile(0.5)\n",
    "Q3 = train_data[\"Temperature (C)\"].quantile(0.75)\n",
    "\n",
    "\n",
    "def convert_temp(x):\n",
    "    if x <= Q1:\n",
    "        return 'low'\n",
    "    elif (x > Q1) and (x < Q3):\n",
    "        return 'medium'\n",
    "    else:\n",
    "        return 'high'\n",
    "    "
   ]
  },
  {
   "cell_type": "code",
   "execution_count": 38,
   "id": "0b32ca34",
   "metadata": {},
   "outputs": [],
   "source": [
    "train_data['Temperature_discrete'] = train_data[\"Temperature (C)\"].apply(convert_temp)\n",
    "test_data['Temperature_discrete'] = test_data[\"Temperature (C)\"].apply(convert_temp)\n"
   ]
  },
  {
   "cell_type": "code",
   "execution_count": 39,
   "id": "8fd7c120",
   "metadata": {},
   "outputs": [
    {
     "data": {
      "text/plain": [
       "Date\n",
       "2015-06-12 22:00:00+00:00      high\n",
       "2008-12-08 13:00:00+00:00    medium\n",
       "2009-01-04 20:00:00+00:00       low\n",
       "2012-10-25 08:00:00+00:00    medium\n",
       "2008-10-20 01:00:00+00:00    medium\n",
       "                              ...  \n",
       "2006-09-19 00:00:00+00:00    medium\n",
       "2012-04-04 21:00:00+00:00    medium\n",
       "2014-10-05 22:00:00+00:00    medium\n",
       "2006-02-05 19:00:00+00:00       low\n",
       "2007-10-21 02:00:00+00:00       low\n",
       "Name: Temperature_discrete, Length: 72339, dtype: object"
      ]
     },
     "execution_count": 39,
     "metadata": {},
     "output_type": "execute_result"
    }
   ],
   "source": [
    "train_data['Temperature_discrete']"
   ]
  },
  {
   "cell_type": "code",
   "execution_count": 40,
   "id": "e803ac6a",
   "metadata": {},
   "outputs": [
    {
     "data": {
      "text/plain": [
       "Date\n",
       "2015-06-12 22:00:00+00:00      high\n",
       "2008-12-08 13:00:00+00:00    medium\n",
       "2009-01-04 20:00:00+00:00       low\n",
       "2012-10-25 08:00:00+00:00    medium\n",
       "2008-10-20 01:00:00+00:00    medium\n",
       "                              ...  \n",
       "2006-09-19 00:00:00+00:00    medium\n",
       "2012-04-04 21:00:00+00:00    medium\n",
       "2014-10-05 22:00:00+00:00    medium\n",
       "2006-02-05 19:00:00+00:00       low\n",
       "2007-10-21 02:00:00+00:00       low\n",
       "Name: Temperature_discrete, Length: 72339, dtype: object"
      ]
     },
     "execution_count": 40,
     "metadata": {},
     "output_type": "execute_result"
    }
   ],
   "source": [
    "train_data['Temperature_discrete']"
   ]
  },
  {
   "cell_type": "code",
   "execution_count": 41,
   "id": "f1a51ff4",
   "metadata": {},
   "outputs": [],
   "source": [
    "# train_dummies1 = pd.get_dummies(train_data['Temperature_discrete'])\n",
    "# test_dummies1 = pd.get_dummies(test_data['Temperature_discrete'])\n",
    "# train_dummies2 = pd.get_dummies(train_data['Precip Type'])\n",
    "# test_dummies2 = pd.get_dummies(test_data['Precip Type'])\n",
    "Temperature_discrete1=pd.get_dummies(train_data['Temperature_discrete'])\n",
    "\n",
    "PrecipType1=pd.get_dummies(train_data['Precip Type'])\n",
    "\n",
    "Temperature_discrete2=pd.get_dummies(test_data['Temperature_discrete'])\n",
    "\n",
    "PrecipType2=pd.get_dummies(test_data['Precip Type'])"
   ]
  },
  {
   "cell_type": "code",
   "execution_count": 42,
   "id": "1dcc62d7",
   "metadata": {},
   "outputs": [],
   "source": [
    " train_data = pd.concat([train_data,Temperature_discrete1,PrecipType1], axis=1)\n",
    " test_data = pd.concat([test_data,Temperature_discrete2,PrecipType2], axis=1)\n"
   ]
  },
  {
   "cell_type": "code",
   "execution_count": 43,
   "id": "cf6beb5d",
   "metadata": {},
   "outputs": [],
   "source": [
    "train_data.drop(['Temperature_discrete','Summary','Precip Type'],axis=1,inplace=True)\n",
    "test_data.drop(['Temperature_discrete','Summary','Precip Type'],axis=1,inplace=True)"
   ]
  },
  {
   "cell_type": "code",
   "execution_count": null,
   "id": "31848fc9",
   "metadata": {},
   "outputs": [],
   "source": []
  },
  {
   "cell_type": "markdown",
   "id": "1acd2f56",
   "metadata": {},
   "source": [
    "### MODEL"
   ]
  },
  {
   "cell_type": "markdown",
   "id": "d1d1202a",
   "metadata": {},
   "source": [
    "# Linear Regression, Multiple regression, SVR regression, Polynomial regression"
   ]
  },
  {
   "cell_type": "code",
   "execution_count": null,
   "id": "ee4d827a",
   "metadata": {},
   "outputs": [],
   "source": []
  },
  {
   "cell_type": "code",
   "execution_count": 44,
   "id": "1d2124fa",
   "metadata": {},
   "outputs": [
    {
     "name": "stderr",
     "output_type": "stream",
     "text": [
      "C:\\Users\\AYATOL~1\\AppData\\Local\\Temp/ipykernel_13548/2728185713.py:2: FutureWarning: In a future version of pandas all arguments of DataFrame.drop except for the argument 'labels' will be keyword-only\n",
      "  Xtrain = train_data.drop('Apparent Temperature (C)',1)\n"
     ]
    }
   ],
   "source": [
    "ytrain=train_data['Apparent Temperature (C)']\n",
    "Xtrain = train_data.drop('Apparent Temperature (C)',1)\n"
   ]
  },
  {
   "cell_type": "code",
   "execution_count": 45,
   "id": "d93094f8",
   "metadata": {},
   "outputs": [
    {
     "name": "stderr",
     "output_type": "stream",
     "text": [
      "C:\\Users\\AYATOL~1\\AppData\\Local\\Temp/ipykernel_13548/1778652632.py:2: FutureWarning: In a future version of pandas all arguments of DataFrame.drop except for the argument 'labels' will be keyword-only\n",
      "  Xtest = test_data.drop('Apparent Temperature (C)',1)\n"
     ]
    }
   ],
   "source": [
    "ytest=test_data['Apparent Temperature (C)']\n",
    "Xtest = test_data.drop('Apparent Temperature (C)',1)\n"
   ]
  },
  {
   "cell_type": "code",
   "execution_count": 46,
   "id": "71f3469d",
   "metadata": {},
   "outputs": [
    {
     "data": {
      "text/plain": [
       "Index(['Temperature (C)', 'Humidity', 'Wind Speed (km/h)',\n",
       "       'Wind Bearing (degrees)', 'Visibility (km)', 'Loud Cover',\n",
       "       'Pressure (millibars)', 'high', 'low', 'medium', 'other', 'rain',\n",
       "       'snow'],\n",
       "      dtype='object')"
      ]
     },
     "execution_count": 46,
     "metadata": {},
     "output_type": "execute_result"
    }
   ],
   "source": [
    "Xtest.columns"
   ]
  },
  {
   "cell_type": "code",
   "execution_count": 47,
   "id": "488f2b45",
   "metadata": {},
   "outputs": [
    {
     "data": {
      "text/plain": [
       "Index(['Temperature (C)', 'Humidity', 'Wind Speed (km/h)',\n",
       "       'Wind Bearing (degrees)', 'Visibility (km)', 'Loud Cover',\n",
       "       'Pressure (millibars)', 'high', 'low', 'medium', 'other', 'rain',\n",
       "       'snow'],\n",
       "      dtype='object')"
      ]
     },
     "execution_count": 47,
     "metadata": {},
     "output_type": "execute_result"
    }
   ],
   "source": [
    "Xtrain.columns"
   ]
  },
  {
   "cell_type": "code",
   "execution_count": 48,
   "id": "c1aae9aa",
   "metadata": {},
   "outputs": [
    {
     "data": {
      "text/html": [
       "<div>\n",
       "<style scoped>\n",
       "    .dataframe tbody tr th:only-of-type {\n",
       "        vertical-align: middle;\n",
       "    }\n",
       "\n",
       "    .dataframe tbody tr th {\n",
       "        vertical-align: top;\n",
       "    }\n",
       "\n",
       "    .dataframe thead th {\n",
       "        text-align: right;\n",
       "    }\n",
       "</style>\n",
       "<table border=\"1\" class=\"dataframe\">\n",
       "  <thead>\n",
       "    <tr style=\"text-align: right;\">\n",
       "      <th></th>\n",
       "      <th>Temperature (C)</th>\n",
       "      <th>Humidity</th>\n",
       "      <th>Wind Speed (km/h)</th>\n",
       "      <th>Wind Bearing (degrees)</th>\n",
       "      <th>Visibility (km)</th>\n",
       "      <th>Loud Cover</th>\n",
       "      <th>...</th>\n",
       "      <th>high</th>\n",
       "      <th>low</th>\n",
       "      <th>medium</th>\n",
       "      <th>other</th>\n",
       "      <th>rain</th>\n",
       "      <th>snow</th>\n",
       "    </tr>\n",
       "    <tr>\n",
       "      <th>Date</th>\n",
       "      <th></th>\n",
       "      <th></th>\n",
       "      <th></th>\n",
       "      <th></th>\n",
       "      <th></th>\n",
       "      <th></th>\n",
       "      <th></th>\n",
       "      <th></th>\n",
       "      <th></th>\n",
       "      <th></th>\n",
       "      <th></th>\n",
       "      <th></th>\n",
       "      <th></th>\n",
       "    </tr>\n",
       "  </thead>\n",
       "  <tbody>\n",
       "    <tr>\n",
       "      <th>2015-12-12 16:00:00+00:00</th>\n",
       "      <td>-1.225755</td>\n",
       "      <td>0.99</td>\n",
       "      <td>0.451678</td>\n",
       "      <td>-0.059812</td>\n",
       "      <td>0.042</td>\n",
       "      <td>0.0</td>\n",
       "      <td>...</td>\n",
       "      <td>0</td>\n",
       "      <td>1</td>\n",
       "      <td>0</td>\n",
       "      <td>0</td>\n",
       "      <td>1</td>\n",
       "      <td>0</td>\n",
       "    </tr>\n",
       "    <tr>\n",
       "      <th>2009-10-24 12:00:00+00:00</th>\n",
       "      <td>0.619325</td>\n",
       "      <td>0.78</td>\n",
       "      <td>0.242971</td>\n",
       "      <td>1.477291</td>\n",
       "      <td>0.644</td>\n",
       "      <td>0.0</td>\n",
       "      <td>...</td>\n",
       "      <td>0</td>\n",
       "      <td>0</td>\n",
       "      <td>1</td>\n",
       "      <td>0</td>\n",
       "      <td>1</td>\n",
       "      <td>0</td>\n",
       "    </tr>\n",
       "    <tr>\n",
       "      <th>2006-10-11 14:00:00+00:00</th>\n",
       "      <td>0.956273</td>\n",
       "      <td>0.49</td>\n",
       "      <td>0.259772</td>\n",
       "      <td>-1.065915</td>\n",
       "      <td>0.620</td>\n",
       "      <td>0.0</td>\n",
       "      <td>...</td>\n",
       "      <td>1</td>\n",
       "      <td>0</td>\n",
       "      <td>0</td>\n",
       "      <td>0</td>\n",
       "      <td>1</td>\n",
       "      <td>0</td>\n",
       "    </tr>\n",
       "    <tr>\n",
       "      <th>2010-04-05 19:00:00+00:00</th>\n",
       "      <td>-0.214330</td>\n",
       "      <td>0.87</td>\n",
       "      <td>1.078702</td>\n",
       "      <td>0.983555</td>\n",
       "      <td>0.686</td>\n",
       "      <td>0.0</td>\n",
       "      <td>...</td>\n",
       "      <td>0</td>\n",
       "      <td>0</td>\n",
       "      <td>1</td>\n",
       "      <td>0</td>\n",
       "      <td>1</td>\n",
       "      <td>0</td>\n",
       "    </tr>\n",
       "    <tr>\n",
       "      <th>2006-05-06 15:00:00+00:00</th>\n",
       "      <td>0.192912</td>\n",
       "      <td>0.61</td>\n",
       "      <td>0.647918</td>\n",
       "      <td>-1.261546</td>\n",
       "      <td>0.711</td>\n",
       "      <td>0.0</td>\n",
       "      <td>...</td>\n",
       "      <td>0</td>\n",
       "      <td>0</td>\n",
       "      <td>1</td>\n",
       "      <td>0</td>\n",
       "      <td>1</td>\n",
       "      <td>0</td>\n",
       "    </tr>\n",
       "    <tr>\n",
       "      <th>...</th>\n",
       "      <td>...</td>\n",
       "      <td>...</td>\n",
       "      <td>...</td>\n",
       "      <td>...</td>\n",
       "      <td>...</td>\n",
       "      <td>...</td>\n",
       "      <td>...</td>\n",
       "      <td>...</td>\n",
       "      <td>...</td>\n",
       "      <td>...</td>\n",
       "      <td>...</td>\n",
       "      <td>...</td>\n",
       "      <td>...</td>\n",
       "    </tr>\n",
       "    <tr>\n",
       "      <th>2008-01-31 18:00:00+00:00</th>\n",
       "      <td>-0.974787</td>\n",
       "      <td>0.78</td>\n",
       "      <td>-2.839282</td>\n",
       "      <td>1.197818</td>\n",
       "      <td>0.611</td>\n",
       "      <td>0.0</td>\n",
       "      <td>...</td>\n",
       "      <td>0</td>\n",
       "      <td>1</td>\n",
       "      <td>0</td>\n",
       "      <td>0</td>\n",
       "      <td>1</td>\n",
       "      <td>0</td>\n",
       "    </tr>\n",
       "    <tr>\n",
       "      <th>2014-11-25 15:00:00+00:00</th>\n",
       "      <td>-0.733114</td>\n",
       "      <td>0.76</td>\n",
       "      <td>0.010506</td>\n",
       "      <td>-1.354704</td>\n",
       "      <td>0.487</td>\n",
       "      <td>0.0</td>\n",
       "      <td>...</td>\n",
       "      <td>0</td>\n",
       "      <td>0</td>\n",
       "      <td>1</td>\n",
       "      <td>0</td>\n",
       "      <td>1</td>\n",
       "      <td>0</td>\n",
       "    </tr>\n",
       "    <tr>\n",
       "      <th>2015-12-14 19:00:00+00:00</th>\n",
       "      <td>-1.030558</td>\n",
       "      <td>0.86</td>\n",
       "      <td>0.280513</td>\n",
       "      <td>-0.898231</td>\n",
       "      <td>0.374</td>\n",
       "      <td>0.0</td>\n",
       "      <td>...</td>\n",
       "      <td>0</td>\n",
       "      <td>1</td>\n",
       "      <td>0</td>\n",
       "      <td>0</td>\n",
       "      <td>1</td>\n",
       "      <td>0</td>\n",
       "    </tr>\n",
       "    <tr>\n",
       "      <th>2009-11-16 05:00:00+00:00</th>\n",
       "      <td>-0.495507</td>\n",
       "      <td>0.93</td>\n",
       "      <td>-0.115365</td>\n",
       "      <td>-0.628074</td>\n",
       "      <td>0.160</td>\n",
       "      <td>0.0</td>\n",
       "      <td>...</td>\n",
       "      <td>0</td>\n",
       "      <td>0</td>\n",
       "      <td>1</td>\n",
       "      <td>0</td>\n",
       "      <td>1</td>\n",
       "      <td>0</td>\n",
       "    </tr>\n",
       "    <tr>\n",
       "      <th>2010-01-11 18:00:00+00:00</th>\n",
       "      <td>-1.250155</td>\n",
       "      <td>0.86</td>\n",
       "      <td>-0.935328</td>\n",
       "      <td>0.936976</td>\n",
       "      <td>0.553</td>\n",
       "      <td>0.0</td>\n",
       "      <td>...</td>\n",
       "      <td>0</td>\n",
       "      <td>1</td>\n",
       "      <td>0</td>\n",
       "      <td>0</td>\n",
       "      <td>1</td>\n",
       "      <td>0</td>\n",
       "    </tr>\n",
       "  </tbody>\n",
       "</table>\n",
       "<p>24114 rows × 13 columns</p>\n",
       "</div>"
      ],
      "text/plain": [
       "                           Temperature (C)  Humidity  Wind Speed (km/h)  \\\n",
       "Date                                                                      \n",
       "2015-12-12 16:00:00+00:00        -1.225755      0.99           0.451678   \n",
       "2009-10-24 12:00:00+00:00         0.619325      0.78           0.242971   \n",
       "2006-10-11 14:00:00+00:00         0.956273      0.49           0.259772   \n",
       "2010-04-05 19:00:00+00:00        -0.214330      0.87           1.078702   \n",
       "2006-05-06 15:00:00+00:00         0.192912      0.61           0.647918   \n",
       "...                                    ...       ...                ...   \n",
       "2008-01-31 18:00:00+00:00        -0.974787      0.78          -2.839282   \n",
       "2014-11-25 15:00:00+00:00        -0.733114      0.76           0.010506   \n",
       "2015-12-14 19:00:00+00:00        -1.030558      0.86           0.280513   \n",
       "2009-11-16 05:00:00+00:00        -0.495507      0.93          -0.115365   \n",
       "2010-01-11 18:00:00+00:00        -1.250155      0.86          -0.935328   \n",
       "\n",
       "                           Wind Bearing (degrees)  Visibility (km)  \\\n",
       "Date                                                                 \n",
       "2015-12-12 16:00:00+00:00               -0.059812            0.042   \n",
       "2009-10-24 12:00:00+00:00                1.477291            0.644   \n",
       "2006-10-11 14:00:00+00:00               -1.065915            0.620   \n",
       "2010-04-05 19:00:00+00:00                0.983555            0.686   \n",
       "2006-05-06 15:00:00+00:00               -1.261546            0.711   \n",
       "...                                           ...              ...   \n",
       "2008-01-31 18:00:00+00:00                1.197818            0.611   \n",
       "2014-11-25 15:00:00+00:00               -1.354704            0.487   \n",
       "2015-12-14 19:00:00+00:00               -0.898231            0.374   \n",
       "2009-11-16 05:00:00+00:00               -0.628074            0.160   \n",
       "2010-01-11 18:00:00+00:00                0.936976            0.553   \n",
       "\n",
       "                           Loud Cover  ...  high  low  medium  other  rain  \\\n",
       "Date                                   ...                                   \n",
       "2015-12-12 16:00:00+00:00         0.0  ...     0    1       0      0     1   \n",
       "2009-10-24 12:00:00+00:00         0.0  ...     0    0       1      0     1   \n",
       "2006-10-11 14:00:00+00:00         0.0  ...     1    0       0      0     1   \n",
       "2010-04-05 19:00:00+00:00         0.0  ...     0    0       1      0     1   \n",
       "2006-05-06 15:00:00+00:00         0.0  ...     0    0       1      0     1   \n",
       "...                               ...  ...   ...  ...     ...    ...   ...   \n",
       "2008-01-31 18:00:00+00:00         0.0  ...     0    1       0      0     1   \n",
       "2014-11-25 15:00:00+00:00         0.0  ...     0    0       1      0     1   \n",
       "2015-12-14 19:00:00+00:00         0.0  ...     0    1       0      0     1   \n",
       "2009-11-16 05:00:00+00:00         0.0  ...     0    0       1      0     1   \n",
       "2010-01-11 18:00:00+00:00         0.0  ...     0    1       0      0     1   \n",
       "\n",
       "                           snow  \n",
       "Date                             \n",
       "2015-12-12 16:00:00+00:00     0  \n",
       "2009-10-24 12:00:00+00:00     0  \n",
       "2006-10-11 14:00:00+00:00     0  \n",
       "2010-04-05 19:00:00+00:00     0  \n",
       "2006-05-06 15:00:00+00:00     0  \n",
       "...                         ...  \n",
       "2008-01-31 18:00:00+00:00     0  \n",
       "2014-11-25 15:00:00+00:00     0  \n",
       "2015-12-14 19:00:00+00:00     0  \n",
       "2009-11-16 05:00:00+00:00     0  \n",
       "2010-01-11 18:00:00+00:00     0  \n",
       "\n",
       "[24114 rows x 13 columns]"
      ]
     },
     "execution_count": 48,
     "metadata": {},
     "output_type": "execute_result"
    }
   ],
   "source": [
    "Xtest"
   ]
  },
  {
   "cell_type": "code",
   "execution_count": null,
   "id": "7bdf77da",
   "metadata": {},
   "outputs": [],
   "source": []
  },
  {
   "cell_type": "code",
   "execution_count": 49,
   "id": "36bc1234",
   "metadata": {},
   "outputs": [],
   "source": [
    "from sklearn.linear_model import LinearRegression\n",
    "reg = LinearRegression().fit(Xtrain, ytrain)"
   ]
  },
  {
   "cell_type": "code",
   "execution_count": 50,
   "id": "06f03c99",
   "metadata": {},
   "outputs": [],
   "source": [
    "reg_pred = reg.predict(Xtrain)"
   ]
  },
  {
   "cell_type": "code",
   "execution_count": 51,
   "id": "4a4ed10a",
   "metadata": {},
   "outputs": [],
   "source": [
    "reg_predd = reg.predict(Xtest)"
   ]
  },
  {
   "cell_type": "code",
   "execution_count": 52,
   "id": "9d70feb3",
   "metadata": {},
   "outputs": [
    {
     "data": {
      "text/plain": [
       "72339"
      ]
     },
     "execution_count": 52,
     "metadata": {},
     "output_type": "execute_result"
    }
   ],
   "source": [
    "len(reg_pred)"
   ]
  },
  {
   "cell_type": "code",
   "execution_count": 53,
   "id": "aa666fc0",
   "metadata": {},
   "outputs": [
    {
     "data": {
      "text/plain": [
       "72339"
      ]
     },
     "execution_count": 53,
     "metadata": {},
     "output_type": "execute_result"
    }
   ],
   "source": [
    "len(ytrain)"
   ]
  },
  {
   "cell_type": "markdown",
   "id": "46e0a045",
   "metadata": {
    "id": "zhqKVilygw1K"
   },
   "source": [
    "## Evaluating our linear regression model"
   ]
  },
  {
   "cell_type": "code",
   "execution_count": 54,
   "id": "09927f1c",
   "metadata": {
    "id": "Vw91dp_YgxA8"
   },
   "outputs": [],
   "source": [
    "def mse(actual, predicted):\n",
    "  return np.mean(np.square(actual-predicted))\n",
    "\n",
    "def rmse(actual, predicted):\n",
    "  return np.sqrt(np.mean(np.square(actual-predicted)))\n",
    "\n",
    "def mae(actual, predicted):\n",
    "  return np.mean(np.abs(actual-predicted))\n",
    "\n",
    "def mape(actual, predicted, epsilon = 0.0001):\n",
    "  return np.mean(np.abs((actual - predicted) / (actual + epsilon))) * 100\n",
    "\n",
    "def rae(actual, predicted):\n",
    "  numerator = np.sum(np.abs(predicted - actual))\n",
    "  denominator = np.sum(np.abs(np.mean(actual) - actual))\n",
    "  return numerator / denominator\n",
    "\n",
    "def r_squared(actual, predicted):\n",
    "  sse = np.sum(np.square(actual-predicted))\n",
    "  sst = np.sum(np.square(actual-np.mean(actual)))\n",
    "  return 1 - (sse/sst)\n",
    "\n",
    "def adj_r_squared(X, actual, predicted): \n",
    "  r_squ = r_squared(actual, predicted)\n",
    "  first_term = 1 - r_squ\n",
    "  sec_term = (len(actual)-1)/(len(actual) - X.shape[1] - 1)\n",
    "  return 1 - (first_term * sec_term)"
   ]
  },
  {
   "cell_type": "code",
   "execution_count": 55,
   "id": "be270bd9",
   "metadata": {
    "colab": {
     "base_uri": "https://localhost:8080/"
    },
    "id": "dWFXK_OUgxDj",
    "outputId": "d4faf15f-7c88-4681-ef4d-e48812a30198"
   },
   "outputs": [
    {
     "name": "stdout",
     "output_type": "stream",
     "text": [
      "##### Evaluation train Data #####\n",
      "The mean squared error is:  0.008951248784183184\n",
      "the root mean squard error is:  0.09461103944140549\n",
      "The mean absolute error is:  0.07439192402026264\n",
      "The mean absolute perentage error is:  87.73724854288709\n",
      "The relative absolute error is:  0.08837883916494349\n",
      "The coefficient of determination is:  0.9910487512158169\n",
      "The adjusted coefficient of determination is:  0.9910471422806743\n"
     ]
    }
   ],
   "source": [
    "print(\"#\"*5,\"Evaluation train Data\",\"#\"*5)\n",
    "print('The mean squared error is: ', mse(ytrain, reg_pred))\n",
    "print('the root mean squard error is: ', rmse(ytrain, reg_pred))\n",
    "print('The mean absolute error is: ', mae(ytrain, reg_pred))\n",
    "print('The mean absolute perentage error is: ', mape(ytrain, reg_pred))\n",
    "print('The relative absolute error is: ', rae(ytrain, reg_pred))\n",
    "print('The coefficient of determination is: ', r_squared(ytrain, reg_pred))\n",
    "print('The adjusted coefficient of determination is: ', adj_r_squared(Xtrain, ytrain, reg_pred))"
   ]
  },
  {
   "cell_type": "code",
   "execution_count": 56,
   "id": "5016fa22",
   "metadata": {},
   "outputs": [
    {
     "name": "stdout",
     "output_type": "stream",
     "text": [
      "##### Evaluation test Data #####\n",
      "The mean squared error is:  0.008850749799189117\n",
      "the root mean squard error is:  0.09407842366445729\n",
      "The mean absolute error is:  0.0740976476388405\n",
      "The mean absolute perentage error is:  96.7007098901347\n",
      "The relative absolute error is:  0.08824272838100285\n",
      "The coefficient of determination is:  0.9910762213390604\n",
      "The adjusted coefficient of determination is:  0.9910714076825212\n"
     ]
    }
   ],
   "source": [
    "print(\"#\"*5,\"Evaluation test Data\",\"#\"*5)\n",
    "print('The mean squared error is: ', mse(ytest, reg_predd))\n",
    "print('the root mean squard error is: ', rmse(ytest, reg_predd))\n",
    "print('The mean absolute error is: ', mae(ytest, reg_predd))\n",
    "print('The mean absolute perentage error is: ', mape(ytest, reg_predd))\n",
    "print('The relative absolute error is: ', rae(ytest, reg_predd))\n",
    "print('The coefficient of determination is: ', r_squared(ytest, reg_predd))\n",
    "print('The adjusted coefficient of determination is: ', adj_r_squared(Xtest, ytest, reg_predd))"
   ]
  },
  {
   "cell_type": "code",
   "execution_count": 57,
   "id": "c11cf6c5",
   "metadata": {},
   "outputs": [
    {
     "data": {
      "text/plain": [
       "0.9910762213390604"
      ]
     },
     "execution_count": 57,
     "metadata": {},
     "output_type": "execute_result"
    }
   ],
   "source": [
    "r_squared(ytest,reg_predd)"
   ]
  },
  {
   "cell_type": "markdown",
   "id": "ab1ec2ea",
   "metadata": {},
   "source": [
    "## Handling Multicolinearity"
   ]
  },
  {
   "cell_type": "code",
   "execution_count": 58,
   "id": "3cd9afe0",
   "metadata": {},
   "outputs": [],
   "source": [
    "from statsmodels.stats.outliers_influence import variance_inflation_factor\n",
    "def VIF_Calculation(X_train):\n",
    "  vif_data = pd.DataFrame()\n",
    "  vif_data[\"feature\"] = X_train.columns\n",
    "    \n",
    "  vif_data[\"VIF\"] = [variance_inflation_factor(X_train.values, i)\n",
    "                            for i in range(len(X_train.columns))]\n",
    "    \n",
    "  return vif_data"
   ]
  },
  {
   "cell_type": "code",
   "execution_count": 59,
   "id": "9a3dce9c",
   "metadata": {},
   "outputs": [
    {
     "name": "stderr",
     "output_type": "stream",
     "text": [
      "C:\\Users\\Ayatollah Elghali\\anaconda3\\lib\\site-packages\\statsmodels\\regression\\linear_model.py:1715: RuntimeWarning: invalid value encountered in double_scalars\n",
      "  return 1 - self.ssr/self.centered_tss\n",
      "C:\\Users\\Ayatollah Elghali\\anaconda3\\lib\\site-packages\\statsmodels\\stats\\outliers_influence.py:193: RuntimeWarning: divide by zero encountered in double_scalars\n",
      "  vif = 1. / (1. - r_squared_i)\n"
     ]
    }
   ],
   "source": [
    "vif_data = VIF_Calculation(Xtrain)"
   ]
  },
  {
   "cell_type": "code",
   "execution_count": 60,
   "id": "12f5f391",
   "metadata": {},
   "outputs": [
    {
     "data": {
      "text/plain": [
       "6"
      ]
     },
     "execution_count": 60,
     "metadata": {},
     "output_type": "execute_result"
    }
   ],
   "source": [
    "len(vif_data[vif_data['VIF'] > 20])"
   ]
  },
  {
   "cell_type": "code",
   "execution_count": 61,
   "id": "9e07c6ea",
   "metadata": {},
   "outputs": [],
   "source": [
    "train_feats_high_vif_to_be_dropped = []\n",
    "cleaned_train_df_from_multi_coll = Xtrain\n",
    "num_cols_removed = 0\n",
    "for index in range(len(Xtrain.columns)):\n",
    "  num_cols_removed = Xtrain.shape[1] - cleaned_train_df_from_multi_coll.shape[1]\n",
    "  cleaned_df_feat_index = index - num_cols_removed\n",
    "  VIF_FEAT = variance_inflation_factor(cleaned_train_df_from_multi_coll.values, cleaned_df_feat_index)\n",
    "  if VIF_FEAT > 20:\n",
    "    train_feats_high_vif_to_be_dropped.append(cleaned_train_df_from_multi_coll.columns[cleaned_df_feat_index])\n",
    "    cleaned_train_df_from_multi_coll = cleaned_train_df_from_multi_coll.drop(columns = [cleaned_train_df_from_multi_coll.columns[cleaned_df_feat_index]])"
   ]
  },
  {
   "cell_type": "code",
   "execution_count": 62,
   "id": "031c7a96",
   "metadata": {},
   "outputs": [
    {
     "data": {
      "text/plain": [
       "(72339, 11)"
      ]
     },
     "execution_count": 62,
     "metadata": {},
     "output_type": "execute_result"
    }
   ],
   "source": [
    "cleaned_train_df_from_multi_coll.shape"
   ]
  },
  {
   "cell_type": "code",
   "execution_count": 63,
   "id": "2e65c92c",
   "metadata": {},
   "outputs": [
    {
     "data": {
      "text/html": [
       "<div>\n",
       "<style scoped>\n",
       "    .dataframe tbody tr th:only-of-type {\n",
       "        vertical-align: middle;\n",
       "    }\n",
       "\n",
       "    .dataframe tbody tr th {\n",
       "        vertical-align: top;\n",
       "    }\n",
       "\n",
       "    .dataframe thead th {\n",
       "        text-align: right;\n",
       "    }\n",
       "</style>\n",
       "<table border=\"1\" class=\"dataframe\">\n",
       "  <thead>\n",
       "    <tr style=\"text-align: right;\">\n",
       "      <th></th>\n",
       "      <th>Temperature (C)</th>\n",
       "      <th>Humidity</th>\n",
       "      <th>Wind Speed (km/h)</th>\n",
       "      <th>Wind Bearing (degrees)</th>\n",
       "      <th>Visibility (km)</th>\n",
       "      <th>Loud Cover</th>\n",
       "      <th>Pressure (millibars)</th>\n",
       "      <th>low</th>\n",
       "      <th>medium</th>\n",
       "      <th>other</th>\n",
       "      <th>snow</th>\n",
       "    </tr>\n",
       "    <tr>\n",
       "      <th>Date</th>\n",
       "      <th></th>\n",
       "      <th></th>\n",
       "      <th></th>\n",
       "      <th></th>\n",
       "      <th></th>\n",
       "      <th></th>\n",
       "      <th></th>\n",
       "      <th></th>\n",
       "      <th></th>\n",
       "      <th></th>\n",
       "      <th></th>\n",
       "    </tr>\n",
       "  </thead>\n",
       "  <tbody>\n",
       "    <tr>\n",
       "      <th>2015-06-12 22:00:00+00:00</th>\n",
       "      <td>0.833694</td>\n",
       "      <td>0.74</td>\n",
       "      <td>-0.440003</td>\n",
       "      <td>-0.255443</td>\n",
       "      <td>1.000</td>\n",
       "      <td>0.0</td>\n",
       "      <td>0.995552</td>\n",
       "      <td>0</td>\n",
       "      <td>0</td>\n",
       "      <td>0</td>\n",
       "      <td>0</td>\n",
       "    </tr>\n",
       "    <tr>\n",
       "      <th>2008-12-08 13:00:00+00:00</th>\n",
       "      <td>-0.606468</td>\n",
       "      <td>0.64</td>\n",
       "      <td>0.708032</td>\n",
       "      <td>1.141923</td>\n",
       "      <td>0.696</td>\n",
       "      <td>0.0</td>\n",
       "      <td>0.996747</td>\n",
       "      <td>0</td>\n",
       "      <td>1</td>\n",
       "      <td>0</td>\n",
       "      <td>0</td>\n",
       "    </tr>\n",
       "    <tr>\n",
       "      <th>2009-01-04 20:00:00+00:00</th>\n",
       "      <td>-1.889775</td>\n",
       "      <td>0.84</td>\n",
       "      <td>0.694010</td>\n",
       "      <td>0.303504</td>\n",
       "      <td>0.310</td>\n",
       "      <td>0.0</td>\n",
       "      <td>0.996360</td>\n",
       "      <td>1</td>\n",
       "      <td>0</td>\n",
       "      <td>0</td>\n",
       "      <td>1</td>\n",
       "    </tr>\n",
       "    <tr>\n",
       "      <th>2012-10-25 08:00:00+00:00</th>\n",
       "      <td>-0.098722</td>\n",
       "      <td>0.93</td>\n",
       "      <td>-3.432751</td>\n",
       "      <td>-1.745966</td>\n",
       "      <td>0.158</td>\n",
       "      <td>0.0</td>\n",
       "      <td>0.995825</td>\n",
       "      <td>0</td>\n",
       "      <td>1</td>\n",
       "      <td>0</td>\n",
       "      <td>0</td>\n",
       "    </tr>\n",
       "    <tr>\n",
       "      <th>2008-10-20 01:00:00+00:00</th>\n",
       "      <td>-0.630868</td>\n",
       "      <td>0.93</td>\n",
       "      <td>-0.470218</td>\n",
       "      <td>-1.187020</td>\n",
       "      <td>0.080</td>\n",
       "      <td>0.0</td>\n",
       "      <td>0.997232</td>\n",
       "      <td>0</td>\n",
       "      <td>1</td>\n",
       "      <td>0</td>\n",
       "      <td>0</td>\n",
       "    </tr>\n",
       "    <tr>\n",
       "      <th>...</th>\n",
       "      <td>...</td>\n",
       "      <td>...</td>\n",
       "      <td>...</td>\n",
       "      <td>...</td>\n",
       "      <td>...</td>\n",
       "      <td>...</td>\n",
       "      <td>...</td>\n",
       "      <td>...</td>\n",
       "      <td>...</td>\n",
       "      <td>...</td>\n",
       "      <td>...</td>\n",
       "    </tr>\n",
       "    <tr>\n",
       "      <th>2006-09-19 00:00:00+00:00</th>\n",
       "      <td>0.486289</td>\n",
       "      <td>0.96</td>\n",
       "      <td>-0.669327</td>\n",
       "      <td>1.598396</td>\n",
       "      <td>0.276</td>\n",
       "      <td>0.0</td>\n",
       "      <td>0.995379</td>\n",
       "      <td>0</td>\n",
       "      <td>1</td>\n",
       "      <td>0</td>\n",
       "      <td>0</td>\n",
       "    </tr>\n",
       "    <tr>\n",
       "      <th>2012-04-04 21:00:00+00:00</th>\n",
       "      <td>0.323044</td>\n",
       "      <td>0.71</td>\n",
       "      <td>0.908141</td>\n",
       "      <td>0.107872</td>\n",
       "      <td>0.941</td>\n",
       "      <td>0.0</td>\n",
       "      <td>0.995010</td>\n",
       "      <td>0</td>\n",
       "      <td>1</td>\n",
       "      <td>0</td>\n",
       "      <td>0</td>\n",
       "    </tr>\n",
       "    <tr>\n",
       "      <th>2014-10-05 22:00:00+00:00</th>\n",
       "      <td>-0.526298</td>\n",
       "      <td>0.93</td>\n",
       "      <td>-3.432751</td>\n",
       "      <td>-1.745966</td>\n",
       "      <td>0.741</td>\n",
       "      <td>0.0</td>\n",
       "      <td>0.996515</td>\n",
       "      <td>0</td>\n",
       "      <td>1</td>\n",
       "      <td>0</td>\n",
       "      <td>0</td>\n",
       "    </tr>\n",
       "    <tr>\n",
       "      <th>2006-02-05 19:00:00+00:00</th>\n",
       "      <td>-1.993764</td>\n",
       "      <td>0.68</td>\n",
       "      <td>0.927032</td>\n",
       "      <td>-1.550335</td>\n",
       "      <td>0.624</td>\n",
       "      <td>0.0</td>\n",
       "      <td>0.997395</td>\n",
       "      <td>1</td>\n",
       "      <td>0</td>\n",
       "      <td>0</td>\n",
       "      <td>1</td>\n",
       "    </tr>\n",
       "    <tr>\n",
       "      <th>2007-10-21 02:00:00+00:00</th>\n",
       "      <td>-0.912045</td>\n",
       "      <td>0.82</td>\n",
       "      <td>0.655966</td>\n",
       "      <td>-1.662125</td>\n",
       "      <td>0.983</td>\n",
       "      <td>0.0</td>\n",
       "      <td>0.996779</td>\n",
       "      <td>1</td>\n",
       "      <td>0</td>\n",
       "      <td>0</td>\n",
       "      <td>0</td>\n",
       "    </tr>\n",
       "  </tbody>\n",
       "</table>\n",
       "<p>72339 rows × 11 columns</p>\n",
       "</div>"
      ],
      "text/plain": [
       "                           Temperature (C)  Humidity  Wind Speed (km/h)  \\\n",
       "Date                                                                      \n",
       "2015-06-12 22:00:00+00:00         0.833694      0.74          -0.440003   \n",
       "2008-12-08 13:00:00+00:00        -0.606468      0.64           0.708032   \n",
       "2009-01-04 20:00:00+00:00        -1.889775      0.84           0.694010   \n",
       "2012-10-25 08:00:00+00:00        -0.098722      0.93          -3.432751   \n",
       "2008-10-20 01:00:00+00:00        -0.630868      0.93          -0.470218   \n",
       "...                                    ...       ...                ...   \n",
       "2006-09-19 00:00:00+00:00         0.486289      0.96          -0.669327   \n",
       "2012-04-04 21:00:00+00:00         0.323044      0.71           0.908141   \n",
       "2014-10-05 22:00:00+00:00        -0.526298      0.93          -3.432751   \n",
       "2006-02-05 19:00:00+00:00        -1.993764      0.68           0.927032   \n",
       "2007-10-21 02:00:00+00:00        -0.912045      0.82           0.655966   \n",
       "\n",
       "                           Wind Bearing (degrees)  Visibility (km)  \\\n",
       "Date                                                                 \n",
       "2015-06-12 22:00:00+00:00               -0.255443            1.000   \n",
       "2008-12-08 13:00:00+00:00                1.141923            0.696   \n",
       "2009-01-04 20:00:00+00:00                0.303504            0.310   \n",
       "2012-10-25 08:00:00+00:00               -1.745966            0.158   \n",
       "2008-10-20 01:00:00+00:00               -1.187020            0.080   \n",
       "...                                           ...              ...   \n",
       "2006-09-19 00:00:00+00:00                1.598396            0.276   \n",
       "2012-04-04 21:00:00+00:00                0.107872            0.941   \n",
       "2014-10-05 22:00:00+00:00               -1.745966            0.741   \n",
       "2006-02-05 19:00:00+00:00               -1.550335            0.624   \n",
       "2007-10-21 02:00:00+00:00               -1.662125            0.983   \n",
       "\n",
       "                           Loud Cover  Pressure (millibars)  low  medium  \\\n",
       "Date                                                                       \n",
       "2015-06-12 22:00:00+00:00         0.0              0.995552    0       0   \n",
       "2008-12-08 13:00:00+00:00         0.0              0.996747    0       1   \n",
       "2009-01-04 20:00:00+00:00         0.0              0.996360    1       0   \n",
       "2012-10-25 08:00:00+00:00         0.0              0.995825    0       1   \n",
       "2008-10-20 01:00:00+00:00         0.0              0.997232    0       1   \n",
       "...                               ...                   ...  ...     ...   \n",
       "2006-09-19 00:00:00+00:00         0.0              0.995379    0       1   \n",
       "2012-04-04 21:00:00+00:00         0.0              0.995010    0       1   \n",
       "2014-10-05 22:00:00+00:00         0.0              0.996515    0       1   \n",
       "2006-02-05 19:00:00+00:00         0.0              0.997395    1       0   \n",
       "2007-10-21 02:00:00+00:00         0.0              0.996779    1       0   \n",
       "\n",
       "                           other  snow  \n",
       "Date                                    \n",
       "2015-06-12 22:00:00+00:00      0     0  \n",
       "2008-12-08 13:00:00+00:00      0     0  \n",
       "2009-01-04 20:00:00+00:00      0     1  \n",
       "2012-10-25 08:00:00+00:00      0     0  \n",
       "2008-10-20 01:00:00+00:00      0     0  \n",
       "...                          ...   ...  \n",
       "2006-09-19 00:00:00+00:00      0     0  \n",
       "2012-04-04 21:00:00+00:00      0     0  \n",
       "2014-10-05 22:00:00+00:00      0     0  \n",
       "2006-02-05 19:00:00+00:00      0     1  \n",
       "2007-10-21 02:00:00+00:00      0     0  \n",
       "\n",
       "[72339 rows x 11 columns]"
      ]
     },
     "execution_count": 63,
     "metadata": {},
     "output_type": "execute_result"
    }
   ],
   "source": [
    "cleaned_train_df_from_multi_coll"
   ]
  },
  {
   "cell_type": "markdown",
   "id": "58959ed6",
   "metadata": {},
   "source": [
    "##  measure the significance level of each feature and perform subset selection using the backward-stepwise method\n"
   ]
  },
  {
   "cell_type": "code",
   "execution_count": 64,
   "id": "fa825634",
   "metadata": {},
   "outputs": [],
   "source": [
    "from statsmodels.api import OLS\n",
    "\n",
    "LRres = OLS(ytrain,cleaned_train_df_from_multi_coll).fit().summary().tables[1]"
   ]
  },
  {
   "cell_type": "code",
   "execution_count": 65,
   "id": "9751ec1e",
   "metadata": {},
   "outputs": [
    {
     "data": {
      "text/html": [
       "<table class=\"simpletable\">\n",
       "<tr>\n",
       "             <td></td>               <th>coef</th>     <th>std err</th>      <th>t</th>      <th>P>|t|</th>  <th>[0.025</th>    <th>0.975]</th>  \n",
       "</tr>\n",
       "<tr>\n",
       "  <th>Temperature (C)</th>        <td>    0.9944</td> <td>    0.001</td> <td> 1137.534</td> <td> 0.000</td> <td>    0.993</td> <td>    0.996</td>\n",
       "</tr>\n",
       "<tr>\n",
       "  <th>Humidity</th>               <td>    0.0163</td> <td>    0.002</td> <td>    7.230</td> <td> 0.000</td> <td>    0.012</td> <td>    0.021</td>\n",
       "</tr>\n",
       "<tr>\n",
       "  <th>Wind Speed (km/h)</th>      <td>   -0.0658</td> <td>    0.000</td> <td> -178.440</td> <td> 0.000</td> <td>   -0.067</td> <td>   -0.065</td>\n",
       "</tr>\n",
       "<tr>\n",
       "  <th>Wind Bearing (degrees)</th> <td>    0.0068</td> <td>    0.000</td> <td>   19.028</td> <td> 0.000</td> <td>    0.006</td> <td>    0.007</td>\n",
       "</tr>\n",
       "<tr>\n",
       "  <th>Visibility (km)</th>        <td>   -0.0369</td> <td>    0.001</td> <td>  -24.876</td> <td> 0.000</td> <td>   -0.040</td> <td>   -0.034</td>\n",
       "</tr>\n",
       "<tr>\n",
       "  <th>Loud Cover</th>             <td> 3.372e-18</td> <td>    9e-19</td> <td>    3.746</td> <td> 0.000</td> <td> 1.61e-18</td> <td> 5.14e-18</td>\n",
       "</tr>\n",
       "<tr>\n",
       "  <th>Pressure (millibars)</th>   <td>   -0.0121</td> <td>    0.002</td> <td>   -5.881</td> <td> 0.000</td> <td>   -0.016</td> <td>   -0.008</td>\n",
       "</tr>\n",
       "<tr>\n",
       "  <th>low</th>                    <td>   -0.0244</td> <td>    0.002</td> <td>  -10.714</td> <td> 0.000</td> <td>   -0.029</td> <td>   -0.020</td>\n",
       "</tr>\n",
       "<tr>\n",
       "  <th>medium</th>                 <td>    0.0586</td> <td>    0.001</td> <td>   40.521</td> <td> 0.000</td> <td>    0.056</td> <td>    0.061</td>\n",
       "</tr>\n",
       "<tr>\n",
       "  <th>other</th>                  <td>    0.0163</td> <td>    0.005</td> <td>    3.326</td> <td> 0.001</td> <td>    0.007</td> <td>    0.026</td>\n",
       "</tr>\n",
       "<tr>\n",
       "  <th>snow</th>                   <td>    0.0087</td> <td>    0.002</td> <td>    5.750</td> <td> 0.000</td> <td>    0.006</td> <td>    0.012</td>\n",
       "</tr>\n",
       "</table>"
      ],
      "text/plain": [
       "<class 'statsmodels.iolib.table.SimpleTable'>"
      ]
     },
     "execution_count": 65,
     "metadata": {},
     "output_type": "execute_result"
    }
   ],
   "source": [
    "LRres\n",
    "# t_statistics=coeff/standard error\n",
    "#"
   ]
  },
  {
   "cell_type": "code",
   "execution_count": 66,
   "id": "efdec115",
   "metadata": {},
   "outputs": [],
   "source": [
    "significant_feats_df = cleaned_train_df_from_multi_coll\n",
    "LRresult = (OLS(ytrain,significant_feats_df).fit().summary2().tables[1]).reset_index().rename(columns = {'index' : 'feature_name'})\n",
    "insignificant_feats_ls = []\n",
    "# if the results contain an insignificant feature (a feature with p-value > 0.05), \n",
    "# then we can drop it form the model and re-calculate the summary table\n",
    "while LRresult['P>|t|'].max() > 0.05: \n",
    "  # get the feature with the max p-value (that fail to reject that coffeciants are zeros)\n",
    "  insignificant_feat = LRresult[LRresult['P>|t|'] == LRresult['P>|t|'].max()][['feature_name']].values[0, 0]\n",
    "  insignificant_feats_ls.append(insignificant_feat)\n",
    "  significant_feats_df = significant_feats_df.drop(columns = [insignificant_feat])\n",
    "  LRresult = (OLS(ytrain,significant_feats_df).fit().summary2().tables[1]).reset_index().rename(columns = {'index' : 'feature_name'})"
   ]
  },
  {
   "cell_type": "code",
   "execution_count": null,
   "id": "7d3d1f02",
   "metadata": {},
   "outputs": [],
   "source": []
  },
  {
   "cell_type": "markdown",
   "id": "2f7cbc1c",
   "metadata": {},
   "source": [
    "## Measuring the whole model significance using the F-statistic, and re-evaluating the model after the subset-selection"
   ]
  },
  {
   "cell_type": "code",
   "execution_count": 67,
   "id": "11084915",
   "metadata": {},
   "outputs": [
    {
     "data": {
      "text/plain": [
       "['high', 'rain']"
      ]
     },
     "execution_count": 67,
     "metadata": {},
     "output_type": "execute_result"
    }
   ],
   "source": [
    "train_feats_high_vif_to_be_dropped"
   ]
  },
  {
   "cell_type": "code",
   "execution_count": 68,
   "id": "874ee3ed",
   "metadata": {},
   "outputs": [],
   "source": [
    "#drop these columns from test data\n",
    "test_data_cleaned_from_multicolinearity=Xtest.drop(train_feats_high_vif_to_be_dropped,axis=1)"
   ]
  },
  {
   "cell_type": "code",
   "execution_count": 69,
   "id": "74f08aaa",
   "metadata": {},
   "outputs": [
    {
     "data": {
      "text/plain": [
       "[]"
      ]
     },
     "execution_count": 69,
     "metadata": {},
     "output_type": "execute_result"
    }
   ],
   "source": [
    "insignificant_feats_ls"
   ]
  },
  {
   "cell_type": "markdown",
   "id": "0e779ef4",
   "metadata": {},
   "source": [
    "## THere is No  insignificant features"
   ]
  },
  {
   "cell_type": "code",
   "execution_count": 70,
   "id": "4b50a048",
   "metadata": {},
   "outputs": [],
   "source": [
    "reg2 = LinearRegression().fit(cleaned_train_df_from_multi_coll, ytrain)"
   ]
  },
  {
   "cell_type": "code",
   "execution_count": 71,
   "id": "03963c9c",
   "metadata": {},
   "outputs": [],
   "source": [
    "pred3=reg2.predict(cleaned_train_df_from_multi_coll)"
   ]
  },
  {
   "cell_type": "code",
   "execution_count": 72,
   "id": "2ca0dcb7",
   "metadata": {},
   "outputs": [
    {
     "name": "stdout",
     "output_type": "stream",
     "text": [
      "The mean squared error is:  0.008951197516315243\n",
      "the root mean squard error is:  0.0946107685008173\n",
      "The mean absolute error is:  0.07440663608334898\n",
      "The mean absolute perentage error is:  87.70103387588323\n",
      "The relative absolute error is:  0.08839631733981904\n",
      "The coefficient of determination is:  0.9910488024836848\n",
      "The adjusted coefficient of determination is:  0.9910474411224687\n"
     ]
    }
   ],
   "source": [
    "print('The mean squared error is: ', mse(ytrain, pred3))\n",
    "print('the root mean squard error is: ', rmse(ytrain, pred3))\n",
    "print('The mean absolute error is: ', mae(ytrain, pred3))\n",
    "print('The mean absolute perentage error is: ', mape(ytrain, pred3))\n",
    "print('The relative absolute error is: ', rae(ytrain, pred3))\n",
    "print('The coefficient of determination is: ', r_squared(ytrain, pred3))\n",
    "print('The adjusted coefficient of determination is: ', adj_r_squared(cleaned_train_df_from_multi_coll, ytrain,pred3))"
   ]
  },
  {
   "cell_type": "code",
   "execution_count": 73,
   "id": "965f8b90",
   "metadata": {},
   "outputs": [],
   "source": [
    "test_pred3=reg2.predict(test_data_cleaned_from_multicolinearity)"
   ]
  },
  {
   "cell_type": "code",
   "execution_count": 74,
   "id": "84ce1022",
   "metadata": {},
   "outputs": [
    {
     "name": "stdout",
     "output_type": "stream",
     "text": [
      "The mean squared error is:  0.008851026682260763\n",
      "the root mean squard error is:  0.09407989520753499\n",
      "The mean absolute error is:  0.0741141330283171\n",
      "The mean absolute perentage error is:  96.65815378100503\n",
      "The relative absolute error is:  0.08826236079569029\n",
      "The coefficient of determination is:  0.9910759421713851\n",
      "The adjusted coefficient of determination is:  0.9910718692879681\n"
     ]
    }
   ],
   "source": [
    "print('The mean squared error is: ', mse(ytest, test_pred3))\n",
    "print('the root mean squard error is: ', rmse(ytest, test_pred3))\n",
    "print('The mean absolute error is: ', mae(ytest, test_pred3))\n",
    "print('The mean absolute perentage error is: ', mape(ytest, test_pred3))\n",
    "print('The relative absolute error is: ', rae(ytest, test_pred3))\n",
    "print('The coefficient of determination is: ', r_squared(ytest, test_pred3))\n",
    "print('The adjusted coefficient of determination is: ', adj_r_squared(test_data_cleaned_from_multicolinearity, ytest,test_pred3))"
   ]
  },
  {
   "cell_type": "markdown",
   "id": "220f01f5",
   "metadata": {},
   "source": [
    "NO Signifanct Difference between reults before n after handling multicolinearity"
   ]
  },
  {
   "cell_type": "code",
   "execution_count": 75,
   "id": "7ffe09da",
   "metadata": {},
   "outputs": [
    {
     "data": {
      "text/html": [
       "<div>\n",
       "<style scoped>\n",
       "    .dataframe tbody tr th:only-of-type {\n",
       "        vertical-align: middle;\n",
       "    }\n",
       "\n",
       "    .dataframe tbody tr th {\n",
       "        vertical-align: top;\n",
       "    }\n",
       "\n",
       "    .dataframe thead th {\n",
       "        text-align: right;\n",
       "    }\n",
       "</style>\n",
       "<table border=\"1\" class=\"dataframe\">\n",
       "  <thead>\n",
       "    <tr style=\"text-align: right;\">\n",
       "      <th></th>\n",
       "      <th>Temperature (C)</th>\n",
       "      <th>Humidity</th>\n",
       "      <th>Wind Speed (km/h)</th>\n",
       "      <th>Wind Bearing (degrees)</th>\n",
       "      <th>Visibility (km)</th>\n",
       "      <th>Loud Cover</th>\n",
       "      <th>Pressure (millibars)</th>\n",
       "      <th>low</th>\n",
       "      <th>medium</th>\n",
       "      <th>other</th>\n",
       "      <th>snow</th>\n",
       "    </tr>\n",
       "    <tr>\n",
       "      <th>Date</th>\n",
       "      <th></th>\n",
       "      <th></th>\n",
       "      <th></th>\n",
       "      <th></th>\n",
       "      <th></th>\n",
       "      <th></th>\n",
       "      <th></th>\n",
       "      <th></th>\n",
       "      <th></th>\n",
       "      <th></th>\n",
       "      <th></th>\n",
       "    </tr>\n",
       "  </thead>\n",
       "  <tbody>\n",
       "    <tr>\n",
       "      <th>2015-06-12 22:00:00+00:00</th>\n",
       "      <td>0.833694</td>\n",
       "      <td>0.74</td>\n",
       "      <td>-0.440003</td>\n",
       "      <td>-0.255443</td>\n",
       "      <td>1.000</td>\n",
       "      <td>0.0</td>\n",
       "      <td>0.995552</td>\n",
       "      <td>0</td>\n",
       "      <td>0</td>\n",
       "      <td>0</td>\n",
       "      <td>0</td>\n",
       "    </tr>\n",
       "    <tr>\n",
       "      <th>2008-12-08 13:00:00+00:00</th>\n",
       "      <td>-0.606468</td>\n",
       "      <td>0.64</td>\n",
       "      <td>0.708032</td>\n",
       "      <td>1.141923</td>\n",
       "      <td>0.696</td>\n",
       "      <td>0.0</td>\n",
       "      <td>0.996747</td>\n",
       "      <td>0</td>\n",
       "      <td>1</td>\n",
       "      <td>0</td>\n",
       "      <td>0</td>\n",
       "    </tr>\n",
       "    <tr>\n",
       "      <th>2009-01-04 20:00:00+00:00</th>\n",
       "      <td>-1.889775</td>\n",
       "      <td>0.84</td>\n",
       "      <td>0.694010</td>\n",
       "      <td>0.303504</td>\n",
       "      <td>0.310</td>\n",
       "      <td>0.0</td>\n",
       "      <td>0.996360</td>\n",
       "      <td>1</td>\n",
       "      <td>0</td>\n",
       "      <td>0</td>\n",
       "      <td>1</td>\n",
       "    </tr>\n",
       "    <tr>\n",
       "      <th>2012-10-25 08:00:00+00:00</th>\n",
       "      <td>-0.098722</td>\n",
       "      <td>0.93</td>\n",
       "      <td>-3.432751</td>\n",
       "      <td>-1.745966</td>\n",
       "      <td>0.158</td>\n",
       "      <td>0.0</td>\n",
       "      <td>0.995825</td>\n",
       "      <td>0</td>\n",
       "      <td>1</td>\n",
       "      <td>0</td>\n",
       "      <td>0</td>\n",
       "    </tr>\n",
       "    <tr>\n",
       "      <th>2008-10-20 01:00:00+00:00</th>\n",
       "      <td>-0.630868</td>\n",
       "      <td>0.93</td>\n",
       "      <td>-0.470218</td>\n",
       "      <td>-1.187020</td>\n",
       "      <td>0.080</td>\n",
       "      <td>0.0</td>\n",
       "      <td>0.997232</td>\n",
       "      <td>0</td>\n",
       "      <td>1</td>\n",
       "      <td>0</td>\n",
       "      <td>0</td>\n",
       "    </tr>\n",
       "    <tr>\n",
       "      <th>...</th>\n",
       "      <td>...</td>\n",
       "      <td>...</td>\n",
       "      <td>...</td>\n",
       "      <td>...</td>\n",
       "      <td>...</td>\n",
       "      <td>...</td>\n",
       "      <td>...</td>\n",
       "      <td>...</td>\n",
       "      <td>...</td>\n",
       "      <td>...</td>\n",
       "      <td>...</td>\n",
       "    </tr>\n",
       "    <tr>\n",
       "      <th>2006-09-19 00:00:00+00:00</th>\n",
       "      <td>0.486289</td>\n",
       "      <td>0.96</td>\n",
       "      <td>-0.669327</td>\n",
       "      <td>1.598396</td>\n",
       "      <td>0.276</td>\n",
       "      <td>0.0</td>\n",
       "      <td>0.995379</td>\n",
       "      <td>0</td>\n",
       "      <td>1</td>\n",
       "      <td>0</td>\n",
       "      <td>0</td>\n",
       "    </tr>\n",
       "    <tr>\n",
       "      <th>2012-04-04 21:00:00+00:00</th>\n",
       "      <td>0.323044</td>\n",
       "      <td>0.71</td>\n",
       "      <td>0.908141</td>\n",
       "      <td>0.107872</td>\n",
       "      <td>0.941</td>\n",
       "      <td>0.0</td>\n",
       "      <td>0.995010</td>\n",
       "      <td>0</td>\n",
       "      <td>1</td>\n",
       "      <td>0</td>\n",
       "      <td>0</td>\n",
       "    </tr>\n",
       "    <tr>\n",
       "      <th>2014-10-05 22:00:00+00:00</th>\n",
       "      <td>-0.526298</td>\n",
       "      <td>0.93</td>\n",
       "      <td>-3.432751</td>\n",
       "      <td>-1.745966</td>\n",
       "      <td>0.741</td>\n",
       "      <td>0.0</td>\n",
       "      <td>0.996515</td>\n",
       "      <td>0</td>\n",
       "      <td>1</td>\n",
       "      <td>0</td>\n",
       "      <td>0</td>\n",
       "    </tr>\n",
       "    <tr>\n",
       "      <th>2006-02-05 19:00:00+00:00</th>\n",
       "      <td>-1.993764</td>\n",
       "      <td>0.68</td>\n",
       "      <td>0.927032</td>\n",
       "      <td>-1.550335</td>\n",
       "      <td>0.624</td>\n",
       "      <td>0.0</td>\n",
       "      <td>0.997395</td>\n",
       "      <td>1</td>\n",
       "      <td>0</td>\n",
       "      <td>0</td>\n",
       "      <td>1</td>\n",
       "    </tr>\n",
       "    <tr>\n",
       "      <th>2007-10-21 02:00:00+00:00</th>\n",
       "      <td>-0.912045</td>\n",
       "      <td>0.82</td>\n",
       "      <td>0.655966</td>\n",
       "      <td>-1.662125</td>\n",
       "      <td>0.983</td>\n",
       "      <td>0.0</td>\n",
       "      <td>0.996779</td>\n",
       "      <td>1</td>\n",
       "      <td>0</td>\n",
       "      <td>0</td>\n",
       "      <td>0</td>\n",
       "    </tr>\n",
       "  </tbody>\n",
       "</table>\n",
       "<p>72339 rows × 11 columns</p>\n",
       "</div>"
      ],
      "text/plain": [
       "                           Temperature (C)  Humidity  Wind Speed (km/h)  \\\n",
       "Date                                                                      \n",
       "2015-06-12 22:00:00+00:00         0.833694      0.74          -0.440003   \n",
       "2008-12-08 13:00:00+00:00        -0.606468      0.64           0.708032   \n",
       "2009-01-04 20:00:00+00:00        -1.889775      0.84           0.694010   \n",
       "2012-10-25 08:00:00+00:00        -0.098722      0.93          -3.432751   \n",
       "2008-10-20 01:00:00+00:00        -0.630868      0.93          -0.470218   \n",
       "...                                    ...       ...                ...   \n",
       "2006-09-19 00:00:00+00:00         0.486289      0.96          -0.669327   \n",
       "2012-04-04 21:00:00+00:00         0.323044      0.71           0.908141   \n",
       "2014-10-05 22:00:00+00:00        -0.526298      0.93          -3.432751   \n",
       "2006-02-05 19:00:00+00:00        -1.993764      0.68           0.927032   \n",
       "2007-10-21 02:00:00+00:00        -0.912045      0.82           0.655966   \n",
       "\n",
       "                           Wind Bearing (degrees)  Visibility (km)  \\\n",
       "Date                                                                 \n",
       "2015-06-12 22:00:00+00:00               -0.255443            1.000   \n",
       "2008-12-08 13:00:00+00:00                1.141923            0.696   \n",
       "2009-01-04 20:00:00+00:00                0.303504            0.310   \n",
       "2012-10-25 08:00:00+00:00               -1.745966            0.158   \n",
       "2008-10-20 01:00:00+00:00               -1.187020            0.080   \n",
       "...                                           ...              ...   \n",
       "2006-09-19 00:00:00+00:00                1.598396            0.276   \n",
       "2012-04-04 21:00:00+00:00                0.107872            0.941   \n",
       "2014-10-05 22:00:00+00:00               -1.745966            0.741   \n",
       "2006-02-05 19:00:00+00:00               -1.550335            0.624   \n",
       "2007-10-21 02:00:00+00:00               -1.662125            0.983   \n",
       "\n",
       "                           Loud Cover  Pressure (millibars)  low  medium  \\\n",
       "Date                                                                       \n",
       "2015-06-12 22:00:00+00:00         0.0              0.995552    0       0   \n",
       "2008-12-08 13:00:00+00:00         0.0              0.996747    0       1   \n",
       "2009-01-04 20:00:00+00:00         0.0              0.996360    1       0   \n",
       "2012-10-25 08:00:00+00:00         0.0              0.995825    0       1   \n",
       "2008-10-20 01:00:00+00:00         0.0              0.997232    0       1   \n",
       "...                               ...                   ...  ...     ...   \n",
       "2006-09-19 00:00:00+00:00         0.0              0.995379    0       1   \n",
       "2012-04-04 21:00:00+00:00         0.0              0.995010    0       1   \n",
       "2014-10-05 22:00:00+00:00         0.0              0.996515    0       1   \n",
       "2006-02-05 19:00:00+00:00         0.0              0.997395    1       0   \n",
       "2007-10-21 02:00:00+00:00         0.0              0.996779    1       0   \n",
       "\n",
       "                           other  snow  \n",
       "Date                                    \n",
       "2015-06-12 22:00:00+00:00      0     0  \n",
       "2008-12-08 13:00:00+00:00      0     0  \n",
       "2009-01-04 20:00:00+00:00      0     1  \n",
       "2012-10-25 08:00:00+00:00      0     0  \n",
       "2008-10-20 01:00:00+00:00      0     0  \n",
       "...                          ...   ...  \n",
       "2006-09-19 00:00:00+00:00      0     0  \n",
       "2012-04-04 21:00:00+00:00      0     0  \n",
       "2014-10-05 22:00:00+00:00      0     0  \n",
       "2006-02-05 19:00:00+00:00      0     1  \n",
       "2007-10-21 02:00:00+00:00      0     0  \n",
       "\n",
       "[72339 rows x 11 columns]"
      ]
     },
     "execution_count": 75,
     "metadata": {},
     "output_type": "execute_result"
    }
   ],
   "source": [
    "cleaned_train_df_from_multi_coll"
   ]
  },
  {
   "cell_type": "code",
   "execution_count": null,
   "id": "99ac47e3",
   "metadata": {},
   "outputs": [],
   "source": []
  },
  {
   "cell_type": "markdown",
   "id": "bb11ee1d",
   "metadata": {},
   "source": [
    "## polynomial Regression"
   ]
  },
  {
   "cell_type": "code",
   "execution_count": 76,
   "id": "95538e5f",
   "metadata": {},
   "outputs": [],
   "source": [
    "from sklearn.preprocessing import PolynomialFeatures\n",
    "poly = PolynomialFeatures(degree = 3)\n",
    "X_poly = poly.fit_transform(Xtrain)\n",
    "testx_poly=poly.transform(Xtest)\n",
    "poly_feats_linear_reg = LinearRegression()\n",
    "poly_feats_linear_reg.fit(X_poly, ytrain)\n",
    "polytrainpred=poly_feats_linear_reg.predict(X_poly)\n",
    "polytestpred=poly_feats_linear_reg.predict(testx_poly)\n",
    "\n"
   ]
  },
  {
   "cell_type": "code",
   "execution_count": 77,
   "id": "32ab5fb3",
   "metadata": {},
   "outputs": [
    {
     "name": "stdout",
     "output_type": "stream",
     "text": [
      "##### Evaluation of polynomial Regression on train Data #####\n",
      "The mean squared error is:  0.0012321513162444659\n",
      "the root mean squard error is:  0.0351020129941926\n",
      "The mean absolute error is:  0.024243123760658347\n",
      "The mean absolute perentage error is:  53.66520349966483\n",
      "The relative absolute error is:  0.028801232982164075\n",
      "The coefficient of determination is:  0.9987678486837556\n",
      "The adjusted coefficient of determination is:  0.9987676272116904\n"
     ]
    }
   ],
   "source": [
    "print(\"#\"*5,\"Evaluation of polynomial Regression on train Data\",\"#\"*5)\n",
    "print('The mean squared error is: ', mse(ytrain, polytrainpred))\n",
    "print('the root mean squard error is: ', rmse(ytrain, polytrainpred))\n",
    "print('The mean absolute error is: ', mae(ytrain, polytrainpred))\n",
    "print('The mean absolute perentage error is: ', mape(ytrain, polytrainpred))\n",
    "print('The relative absolute error is: ', rae(ytrain, polytrainpred))\n",
    "print('The coefficient of determination is: ', r_squared(ytrain, polytrainpred))\n",
    "print('The adjusted coefficient of determination is: ', adj_r_squared(Xtrain, ytrain, polytrainpred))"
   ]
  },
  {
   "cell_type": "code",
   "execution_count": 78,
   "id": "9399b899",
   "metadata": {},
   "outputs": [
    {
     "name": "stdout",
     "output_type": "stream",
     "text": [
      "##### Evaluation of polynomial Regression on test Data ##### \n",
      "\n",
      "The mean squared error is:  0.0012617537585014854\n",
      "the root mean squard error is:  0.03552117338294845\n",
      "The mean absolute error is:  0.0245107644993608\n",
      "The mean absolute perentage error is:  58.978343239677464\n",
      "The relative absolute error is:  0.029189816452338722\n",
      "The coefficient of determination is:  0.998727835322324\n",
      "The adjusted coefficient of determination is:  0.9987271490924149\n"
     ]
    }
   ],
   "source": [
    "print(\"#\"*5,\"Evaluation of polynomial Regression on test Data\",\"#\"*5,\"\\n\")\n",
    "print('The mean squared error is: ', mse(ytest, polytestpred))\n",
    "print('the root mean squard error is: ', rmse(ytest, polytestpred))\n",
    "print('The mean absolute error is: ', mae(ytest, polytestpred))\n",
    "print('The mean absolute perentage error is: ', mape(ytest, polytestpred))\n",
    "print('The relative absolute error is: ', rae(ytest, polytestpred))\n",
    "print('The coefficient of determination is: ', r_squared(ytest, polytestpred))\n",
    "print('The adjusted coefficient of determination is: ', adj_r_squared(Xtest, ytest, polytestpred))"
   ]
  },
  {
   "cell_type": "markdown",
   "id": "7b971fa3",
   "metadata": {},
   "source": [
    "### SVR regression"
   ]
  },
  {
   "cell_type": "code",
   "execution_count": 79,
   "id": "3f05e4fc",
   "metadata": {},
   "outputs": [],
   "source": [
    "from sklearn.svm import SVR\n",
    "svr_sklearn  = SVR(kernel = 'rbf', C = 100, gamma = 0.1, epsilon= 0.1)\n",
    "\n",
    "SVR_model = svr_sklearn.fit(Xtrain.values, ytrain.values.flatten())\n",
    "SVR_tpred=SVR_model.predict(Xtrain.values)\n",
    "SVR_testpred=SVR_model.predict(Xtest.values)"
   ]
  },
  {
   "cell_type": "code",
   "execution_count": 80,
   "id": "e7ae7d51",
   "metadata": {},
   "outputs": [
    {
     "name": "stdout",
     "output_type": "stream",
     "text": [
      "##### Evaluation of SVR model on train Data #####\n",
      "The mean squared error is:  0.0022034800851943055\n",
      "the root mean squard error is:  0.0469412407717809\n",
      "The mean absolute error is:  0.03778481697372182\n",
      "The mean absolute perentage error is:  41.37003729793341\n",
      "The relative absolute error is:  0.04488898904251886\n",
      "The coefficient of determination is:  0.9977965199148057\n",
      "The adjusted coefficient of determination is:  0.9977961238520181\n"
     ]
    }
   ],
   "source": [
    "print(\"#\"*5,\"Evaluation of SVR model on train Data\",\"#\"*5)\n",
    "print('The mean squared error is: ', mse(ytrain, SVR_tpred))\n",
    "print('the root mean squard error is: ', rmse(ytrain, SVR_tpred))\n",
    "print('The mean absolute error is: ', mae(ytrain, SVR_tpred))\n",
    "print('The mean absolute perentage error is: ', mape(ytrain, SVR_tpred))\n",
    "print('The relative absolute error is: ', rae(ytrain, SVR_tpred))\n",
    "print('The coefficient of determination is: ', r_squared(ytrain, SVR_tpred))\n",
    "print('The adjusted coefficient of determination is: ', adj_r_squared(Xtrain, ytrain, SVR_tpred))"
   ]
  },
  {
   "cell_type": "code",
   "execution_count": 81,
   "id": "b74c01a4",
   "metadata": {},
   "outputs": [
    {
     "name": "stdout",
     "output_type": "stream",
     "text": [
      "##### Evaluation of SVR model on test Data ##### \n",
      "\n",
      "The mean squared error is:  0.00222682476938384\n",
      "the root mean squard error is:  0.04718924421289072\n",
      "The mean absolute error is:  0.037830137444657165\n",
      "The mean absolute perentage error is:  36.72706757907788\n",
      "The relative absolute error is:  0.04505182889766974\n",
      "The coefficient of determination is:  0.997754801366038\n",
      "The adjusted coefficient of determination is:  0.9977535902630404\n"
     ]
    }
   ],
   "source": [
    "print(\"#\"*5,\"Evaluation of SVR model on test Data\",\"#\"*5,\"\\n\")\n",
    "print('The mean squared error is: ', mse(ytest, SVR_testpred))\n",
    "print('the root mean squard error is: ', rmse(ytest, SVR_testpred))\n",
    "print('The mean absolute error is: ', mae(ytest, SVR_testpred))\n",
    "print('The mean absolute perentage error is: ', mape(ytest, SVR_testpred))\n",
    "print('The relative absolute error is: ', rae(ytest, SVR_testpred))\n",
    "print('The coefficient of determination is: ', r_squared(ytest, SVR_testpred))\n",
    "print('The adjusted coefficient of determination is: ', adj_r_squared(Xtest, ytest, SVR_testpred))"
   ]
  },
  {
   "cell_type": "code",
   "execution_count": null,
   "id": "b6aa1ec0",
   "metadata": {},
   "outputs": [],
   "source": []
  }
 ],
 "metadata": {
  "kernelspec": {
   "display_name": "Python 3 (ipykernel)",
   "language": "python",
   "name": "python3"
  },
  "language_info": {
   "codemirror_mode": {
    "name": "ipython",
    "version": 3
   },
   "file_extension": ".py",
   "mimetype": "text/x-python",
   "name": "python",
   "nbconvert_exporter": "python",
   "pygments_lexer": "ipython3",
   "version": "3.9.7"
  }
 },
 "nbformat": 4,
 "nbformat_minor": 5
}
